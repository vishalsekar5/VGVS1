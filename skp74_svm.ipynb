{
 "cells": [
  {
   "cell_type": "code",
   "execution_count": 1,
   "metadata": {},
   "outputs": [],
   "source": [
    "import pandas as pd\n",
    "import numpy as np\n",
    "import seaborn as sns\n",
    "import matplotlib.pyplot as plt"
   ]
  },
  {
   "cell_type": "code",
   "execution_count": 2,
   "metadata": {},
   "outputs": [],
   "source": [
    "df_ini=pd.read_csv('titanic.csv')"
   ]
  },
  {
   "cell_type": "code",
   "execution_count": 3,
   "metadata": {},
   "outputs": [],
   "source": [
    "for feature in df_ini.columns[:]:\n",
    "    if df_ini[feature].dtype!='object':        \n",
    "        df_ini[feature]=np.where(df_ini[feature].isnull(),df_ini[feature].median(),df_ini[feature])\n",
    "    else:\n",
    "        df_ini[feature]=np.where(df_ini[feature].isnull(),df_ini[feature].value_counts().index[0],df_ini[feature])\n",
    "df_aim=df_ini"
   ]
  },
  {
   "cell_type": "code",
   "execution_count": 4,
   "metadata": {},
   "outputs": [],
   "source": [
    "def reol(feature1):\n",
    "    IQR=df_aim[feature1].quantile(0.75)-df_aim[feature1].quantile(0.25)\n",
    "    lbound=df_aim[feature1].quantile(0.25)-(IQR*1.5)\n",
    "    ubound=df_aim[feature1].quantile(0.75)+(IQR*1.5)\n",
    "    df_aim.loc[df_aim[feature1]<=lbound,feature1]=lbound\n",
    "    df_aim.loc[df_aim[feature1]>=ubound,feature1]=ubound\n",
    "df_aol=df_aim"
   ]
  },
  {
   "cell_type": "code",
   "execution_count": 5,
   "metadata": {},
   "outputs": [],
   "source": [
    "for feature in df_aim.columns[:]:\n",
    "    if df_aim[feature].dtype!='object':\n",
    "        reol(feature)"
   ]
  },
  {
   "cell_type": "code",
   "execution_count": 6,
   "metadata": {},
   "outputs": [],
   "source": [
    "df_aol_cont1=df_aol.select_dtypes(exclude=[object])"
   ]
  },
  {
   "cell_type": "code",
   "execution_count": 7,
   "metadata": {},
   "outputs": [],
   "source": [
    "df_aol_cont2=df_aol_cont1.drop(columns='Pclass',axis=1) #Dropping categorical ordinal features"
   ]
  },
  {
   "cell_type": "code",
   "execution_count": 8,
   "metadata": {},
   "outputs": [],
   "source": [
    "df_aol_cont3=df_aol_cont2.drop('Survived',axis=1)#varience threshold can be applied for independent features only"
   ]
  },
  {
   "cell_type": "code",
   "execution_count": 9,
   "metadata": {},
   "outputs": [
    {
     "data": {
      "text/plain": [
       "VarianceThreshold(threshold=0)"
      ]
     },
     "execution_count": 9,
     "metadata": {},
     "output_type": "execute_result"
    }
   ],
   "source": [
    "from sklearn.feature_selection import VarianceThreshold\n",
    "var_thres=VarianceThreshold(threshold=0)\n",
    "var_thres.fit(df_aol_cont3)"
   ]
  },
  {
   "cell_type": "code",
   "execution_count": 10,
   "metadata": {},
   "outputs": [],
   "source": [
    "const_features=[column for column in df_aol_cont3.columns\\\n",
    "               if column not in df_aol_cont3.columns[var_thres.get_support()]]"
   ]
  },
  {
   "cell_type": "code",
   "execution_count": 11,
   "metadata": {},
   "outputs": [],
   "source": [
    "df_aol=df_aol.drop(const_features,axis=1)#Dropping constant features"
   ]
  },
  {
   "cell_type": "code",
   "execution_count": 12,
   "metadata": {},
   "outputs": [],
   "source": [
    "df_aol_cont3=df_aol_cont3.drop(columns=const_features,axis=1)"
   ]
  },
  {
   "cell_type": "code",
   "execution_count": 13,
   "metadata": {},
   "outputs": [],
   "source": [
    "X=df_aol_cont3\n",
    "y=df_aol_cont2['Survived']"
   ]
  },
  {
   "cell_type": "code",
   "execution_count": 14,
   "metadata": {},
   "outputs": [
    {
     "name": "stdout",
     "output_type": "stream",
     "text": [
      "The Features to be Dropped are...\n"
     ]
    },
    {
     "data": {
      "text/plain": [
       "set()"
      ]
     },
     "execution_count": 14,
     "metadata": {},
     "output_type": "execute_result"
    }
   ],
   "source": [
    "def pcc(dataset,threshold):\n",
    "    dropset=set()\n",
    "    cor_mat=dataset.corr()\n",
    "    for i in range(len(cor_mat.columns)):\n",
    "        for j in range(i):\n",
    "            if abs(cor_mat.iloc[i,j])>=threshold:\n",
    "                cor_feat=cor_mat.columns[i]\n",
    "                dropset.add(cor_feat)\n",
    "    return dropset \n",
    "dropset1=pcc(X,0.85)\n",
    "print(\"The Features to be Dropped are...\")\n",
    "dropset1"
   ]
  },
  {
   "cell_type": "code",
   "execution_count": 15,
   "metadata": {},
   "outputs": [],
   "source": [
    "df_aol=df_aol.drop(columns=dropset1,axis=1)"
   ]
  },
  {
   "cell_type": "code",
   "execution_count": 16,
   "metadata": {},
   "outputs": [],
   "source": [
    "def enc(feature1):\n",
    "    key_labels=df_aol[feature1].unique()\n",
    "    dict={k:i for i,k in enumerate(key_labels,0)}\n",
    "    df_aol[feature1]=df_aol[feature1].map(dict)"
   ]
  },
  {
   "cell_type": "code",
   "execution_count": 17,
   "metadata": {},
   "outputs": [],
   "source": [
    "for feature in df_aol.columns[:]:\n",
    "    if df_aol[feature].dtype=='object':\n",
    "        enc(feature)\n",
    "df_aec=df_aol"
   ]
  },
  {
   "cell_type": "code",
   "execution_count": 18,
   "metadata": {},
   "outputs": [],
   "source": [
    "from sklearn.feature_selection import mutual_info_classif\n",
    "X=df_aec.drop(columns='Survived',axis=1)\n",
    "y=df_aec['Survived']\n",
    "mut_inf_data=mutual_info_classif(X,y,random_state=0)\n",
    "mut_inf_modif=pd.Series(mut_inf_data,index=X.columns)\n",
    "mut_inf_sorted=mut_inf_modif.sort_values(ascending=False)\n",
    "dict=mut_inf_sorted.to_dict()"
   ]
  },
  {
   "cell_type": "code",
   "execution_count": 19,
   "metadata": {},
   "outputs": [],
   "source": [
    "droplist=[]\n",
    "for key in dict:\n",
    "    if dict[key]<0.001:\n",
    "        droplist.append(key)"
   ]
  },
  {
   "cell_type": "code",
   "execution_count": 20,
   "metadata": {},
   "outputs": [],
   "source": [
    "df_aec=df_aec.drop(columns=droplist,axis=1)"
   ]
  },
  {
   "cell_type": "code",
   "execution_count": 21,
   "metadata": {},
   "outputs": [],
   "source": [
    "df_aim_cate1=df_aim.select_dtypes(include=[object])#For imbalanced data check,include all categorical features+Dep. feature"
   ]
  },
  {
   "cell_type": "code",
   "execution_count": 22,
   "metadata": {},
   "outputs": [],
   "source": [
    "df_aim_cate2=df_aim[['Pclass','Survived']].copy()#include categorical ordinal feature and\n",
    "df_aim_cate=pd.concat([df_aim_cate1,df_aim_cate2],axis=1)#dependent feature in the new Data frame."
   ]
  },
  {
   "cell_type": "code",
   "execution_count": 23,
   "metadata": {},
   "outputs": [],
   "source": [
    "imb_chk_list=list()"
   ]
  },
  {
   "cell_type": "code",
   "execution_count": 24,
   "metadata": {},
   "outputs": [],
   "source": [
    "for feature in df_aim_cate.columns[:]:\n",
    "    length=int(len(df_aim_cate[feature].unique()))      \n",
    "    if length <= 5:\n",
    "        imb_chk_list.append(feature)"
   ]
  },
  {
   "cell_type": "code",
   "execution_count": 25,
   "metadata": {},
   "outputs": [],
   "source": [
    "drop_list=[]#Add the independent features with single category, imbalanced data in this list(Difference of values<0.05 and >0.95)"
   ]
  },
  {
   "cell_type": "code",
   "execution_count": 26,
   "metadata": {},
   "outputs": [],
   "source": [
    "df_aec=df_aec.drop(drop_list,axis=1)"
   ]
  },
  {
   "cell_type": "code",
   "execution_count": 27,
   "metadata": {},
   "outputs": [],
   "source": [
    "original_list=['Survived','Pclass','Sex','SibSp','Cabin','Embarked']\n",
    "log_list=['Fare']\n",
    "expo_list=[]\n",
    "sqroot_list=['PassengerId','Name','Ticket']\n",
    "boxcox_list=[]"
   ]
  },
  {
   "cell_type": "code",
   "execution_count": 28,
   "metadata": {},
   "outputs": [],
   "source": [
    "for feature in log_list:\n",
    "    df_aec[feature]=np.log1p(df_aec[feature])"
   ]
  },
  {
   "cell_type": "code",
   "execution_count": 29,
   "metadata": {},
   "outputs": [],
   "source": [
    "for feature in sqroot_list:\n",
    "    df_aec[feature]=df_aec[feature]**(1/2)"
   ]
  },
  {
   "cell_type": "code",
   "execution_count": 30,
   "metadata": {},
   "outputs": [],
   "source": [
    "df_atr=df_aec"
   ]
  },
  {
   "cell_type": "code",
   "execution_count": 31,
   "metadata": {},
   "outputs": [],
   "source": [
    "from sklearn.preprocessing import MinMaxScaler\n",
    "scaler=MinMaxScaler()\n",
    "scaled=scaler.fit_transform(df_atr)"
   ]
  },
  {
   "cell_type": "code",
   "execution_count": 32,
   "metadata": {},
   "outputs": [],
   "source": [
    "df_ast=pd.DataFrame(scaled,columns=df_atr.columns)"
   ]
  },
  {
   "cell_type": "code",
   "execution_count": 33,
   "metadata": {},
   "outputs": [],
   "source": [
    "df_fin=df_ast"
   ]
  },
  {
   "cell_type": "code",
   "execution_count": 34,
   "metadata": {},
   "outputs": [],
   "source": [
    "X=df_fin.drop(columns='Survived',axis=1)\n",
    "y=df_fin['Survived']"
   ]
  },
  {
   "cell_type": "code",
   "execution_count": 35,
   "metadata": {},
   "outputs": [],
   "source": [
    "from sklearn.model_selection import train_test_split"
   ]
  },
  {
   "cell_type": "code",
   "execution_count": 36,
   "metadata": {},
   "outputs": [],
   "source": [
    "X_train,X_test,y_train,y_test=train_test_split(X,y,train_size=0.7,random_state=0)"
   ]
  },
  {
   "cell_type": "code",
   "execution_count": 37,
   "metadata": {},
   "outputs": [],
   "source": [
    "from sklearn import svm\n",
    "classifier=svm.SVC()\n",
    "classifier.fit(X_train,y_train)\n",
    "prediction=classifier.predict(X_test)"
   ]
  },
  {
   "cell_type": "code",
   "execution_count": 38,
   "metadata": {},
   "outputs": [
    {
     "name": "stdout",
     "output_type": "stream",
     "text": [
      "[[151  17]\n",
      " [ 35  65]]\n",
      "Accuracy Score : 0.8059701492537313\n",
      "              precision    recall  f1-score   support\n",
      "\n",
      "         0.0       0.81      0.90      0.85       168\n",
      "         1.0       0.79      0.65      0.71       100\n",
      "\n",
      "    accuracy                           0.81       268\n",
      "   macro avg       0.80      0.77      0.78       268\n",
      "weighted avg       0.80      0.81      0.80       268\n",
      "\n"
     ]
    }
   ],
   "source": [
    "from sklearn.metrics import confusion_matrix,classification_report,accuracy_score\n",
    "print(confusion_matrix(y_test,prediction))\n",
    "print(\"Accuracy Score :\",accuracy_score(y_test,prediction))\n",
    "print(classification_report(y_test,prediction))"
   ]
  },
  {
   "cell_type": "code",
   "execution_count": 39,
   "metadata": {},
   "outputs": [],
   "source": [
    "from sklearn.model_selection import GridSearchCV\n",
    "from scipy.stats import reciprocal,uniform\n",
    "classifier=svm.SVC()"
   ]
  },
  {
   "cell_type": "code",
   "execution_count": 40,
   "metadata": {},
   "outputs": [],
   "source": [
    "param_grid={'C':[0.1,1,10,100],\n",
    "            'gamma':[1,0.1,0.01,0.001],\n",
    "            'kernel':['rbf','poly','sigmoid']}            "
   ]
  },
  {
   "cell_type": "code",
   "execution_count": 41,
   "metadata": {},
   "outputs": [],
   "source": [
    "grid_search=GridSearchCV(estimator=classifier,param_grid=param_grid,cv=10,\n",
    "                         verbose=2,n_jobs=-1)"
   ]
  },
  {
   "cell_type": "code",
   "execution_count": 42,
   "metadata": {
    "scrolled": true
   },
   "outputs": [
    {
     "name": "stdout",
     "output_type": "stream",
     "text": [
      "Fitting 10 folds for each of 48 candidates, totalling 480 fits\n"
     ]
    },
    {
     "name": "stderr",
     "output_type": "stream",
     "text": [
      "[Parallel(n_jobs=-1)]: Using backend LokyBackend with 4 concurrent workers.\n",
      "[Parallel(n_jobs=-1)]: Done  33 tasks      | elapsed:    3.9s\n",
      "[Parallel(n_jobs=-1)]: Done 480 out of 480 | elapsed:   25.6s finished\n"
     ]
    },
    {
     "data": {
      "text/plain": [
       "GridSearchCV(cv=10, estimator=SVC(), n_jobs=-1,\n",
       "             param_grid={'C': [0.1, 1, 10, 100], 'gamma': [1, 0.1, 0.01, 0.001],\n",
       "                         'kernel': ['rbf', 'poly', 'sigmoid']},\n",
       "             verbose=2)"
      ]
     },
     "execution_count": 42,
     "metadata": {},
     "output_type": "execute_result"
    }
   ],
   "source": [
    "grid_search.fit(X_train,y_train)"
   ]
  },
  {
   "cell_type": "code",
   "execution_count": 43,
   "metadata": {},
   "outputs": [
    {
     "data": {
      "text/plain": [
       "SVC(C=10, gamma=0.1)"
      ]
     },
     "execution_count": 43,
     "metadata": {},
     "output_type": "execute_result"
    }
   ],
   "source": [
    "best_grid=grid_search.best_estimator_\n",
    "best_grid"
   ]
  },
  {
   "cell_type": "code",
   "execution_count": 44,
   "metadata": {},
   "outputs": [],
   "source": [
    "prediction=best_grid.predict(X_test)"
   ]
  },
  {
   "cell_type": "code",
   "execution_count": 45,
   "metadata": {},
   "outputs": [
    {
     "name": "stdout",
     "output_type": "stream",
     "text": [
      "[[144  24]\n",
      " [ 32  68]]\n",
      "Accuracy Score : 0.7910447761194029\n",
      "              precision    recall  f1-score   support\n",
      "\n",
      "         0.0       0.82      0.86      0.84       168\n",
      "         1.0       0.74      0.68      0.71       100\n",
      "\n",
      "    accuracy                           0.79       268\n",
      "   macro avg       0.78      0.77      0.77       268\n",
      "weighted avg       0.79      0.79      0.79       268\n",
      "\n"
     ]
    }
   ],
   "source": [
    "from sklearn.metrics import confusion_matrix,classification_report,accuracy_score\n",
    "print(confusion_matrix(y_test,prediction))\n",
    "print(\"Accuracy Score :\",accuracy_score(y_test,prediction))\n",
    "print(classification_report(y_test,prediction))"
   ]
  },
  {
   "cell_type": "code",
   "execution_count": 46,
   "metadata": {},
   "outputs": [],
   "source": [
    "# pip install optuna\n",
    "import optuna\n",
    "from sklearn.model_selection import cross_val_score\n",
    "def objective(trial):\n",
    "    C=trial.suggest_categorical('C',[0.1,1,10,100])\n",
    "    gamma=trial.suggest_categorical('gamma',[1,0.1,0.01,0.001])\n",
    "    kernel=trial.suggest_categorical('kernel',['rbf','poly','sigmoid'])\n",
    "    classifier=svm.SVC(C=C,gamma=gamma,kernel=kernel)\n",
    "    score=cross_val_score(classifier,X_train,y_train,n_jobs=-1,cv=3).mean()\n",
    "    return score"
   ]
  },
  {
   "cell_type": "code",
   "execution_count": 47,
   "metadata": {},
   "outputs": [
    {
     "name": "stderr",
     "output_type": "stream",
     "text": [
      "\u001b[32m[I 2021-07-30 23:48:53,863]\u001b[0m A new study created in memory with name: no-name-f91f347d-23b6-4288-b135-1e86556dac96\u001b[0m\n",
      "\u001b[32m[I 2021-07-30 23:48:53,903]\u001b[0m Trial 0 finished with value: 0.6517016598538338 and parameters: {'C': 100, 'gamma': 1, 'kernel': 'sigmoid'}. Best is trial 0 with value: 0.6517016598538338.\u001b[0m\n",
      "\u001b[32m[I 2021-07-30 23:48:53,940]\u001b[0m Trial 1 finished with value: 0.6901244890375325 and parameters: {'C': 10, 'gamma': 0.001, 'kernel': 'sigmoid'}. Best is trial 1 with value: 0.6901244890375325.\u001b[0m\n",
      "\u001b[32m[I 2021-07-30 23:48:54,159]\u001b[0m Trial 2 finished with value: 0.772064288368636 and parameters: {'C': 10, 'gamma': 1, 'kernel': 'poly'}. Best is trial 2 with value: 0.772064288368636.\u001b[0m\n",
      "\u001b[32m[I 2021-07-30 23:48:54,195]\u001b[0m Trial 3 finished with value: 0.7865725257029604 and parameters: {'C': 1, 'gamma': 0.01, 'kernel': 'rbf'}. Best is trial 3 with value: 0.7865725257029604.\u001b[0m\n",
      "\u001b[32m[I 2021-07-30 23:48:54,225]\u001b[0m Trial 4 finished with value: 0.7978214418431809 and parameters: {'C': 10, 'gamma': 0.1, 'kernel': 'poly'}. Best is trial 4 with value: 0.7978214418431809.\u001b[0m\n",
      "\u001b[32m[I 2021-07-30 23:48:54,263]\u001b[0m Trial 5 finished with value: 0.7865260745695529 and parameters: {'C': 100, 'gamma': 0.1, 'kernel': 'poly'}. Best is trial 4 with value: 0.7978214418431809.\u001b[0m\n",
      "\u001b[32m[I 2021-07-30 23:48:54,297]\u001b[0m Trial 6 finished with value: 0.6115601387340518 and parameters: {'C': 0.1, 'gamma': 0.01, 'kernel': 'sigmoid'}. Best is trial 4 with value: 0.7978214418431809.\u001b[0m\n",
      "\u001b[32m[I 2021-07-30 23:48:54,332]\u001b[0m Trial 7 finished with value: 0.6115601387340518 and parameters: {'C': 0.1, 'gamma': 0.01, 'kernel': 'rbf'}. Best is trial 4 with value: 0.7978214418431809.\u001b[0m\n",
      "\u001b[32m[I 2021-07-30 23:48:54,369]\u001b[0m Trial 8 finished with value: 0.7736668524712003 and parameters: {'C': 10, 'gamma': 1, 'kernel': 'rbf'}. Best is trial 4 with value: 0.7978214418431809.\u001b[0m\n",
      "\u001b[32m[I 2021-07-30 23:48:54,424]\u001b[0m Trial 9 finished with value: 0.784900284900285 and parameters: {'C': 1, 'gamma': 1, 'kernel': 'poly'}. Best is trial 4 with value: 0.7978214418431809.\u001b[0m\n",
      "\u001b[32m[I 2021-07-30 23:48:54,457]\u001b[0m Trial 10 finished with value: 0.7978214418431809 and parameters: {'C': 10, 'gamma': 0.1, 'kernel': 'poly'}. Best is trial 4 with value: 0.7978214418431809.\u001b[0m\n",
      "\u001b[32m[I 2021-07-30 23:48:54,489]\u001b[0m Trial 11 finished with value: 0.7978214418431809 and parameters: {'C': 10, 'gamma': 0.1, 'kernel': 'poly'}. Best is trial 4 with value: 0.7978214418431809.\u001b[0m\n",
      "\u001b[32m[I 2021-07-30 23:48:54,521]\u001b[0m Trial 12 finished with value: 0.7978214418431809 and parameters: {'C': 10, 'gamma': 0.1, 'kernel': 'poly'}. Best is trial 4 with value: 0.7978214418431809.\u001b[0m\n",
      "\u001b[32m[I 2021-07-30 23:48:54,554]\u001b[0m Trial 13 finished with value: 0.7978214418431809 and parameters: {'C': 10, 'gamma': 0.1, 'kernel': 'poly'}. Best is trial 4 with value: 0.7978214418431809.\u001b[0m\n",
      "\u001b[32m[I 2021-07-30 23:48:54,589]\u001b[0m Trial 14 finished with value: 0.7978214418431809 and parameters: {'C': 10, 'gamma': 0.1, 'kernel': 'poly'}. Best is trial 4 with value: 0.7978214418431809.\u001b[0m\n",
      "\u001b[32m[I 2021-07-30 23:48:54,628]\u001b[0m Trial 15 finished with value: 0.6115601387340518 and parameters: {'C': 10, 'gamma': 0.001, 'kernel': 'poly'}. Best is trial 4 with value: 0.7978214418431809.\u001b[0m\n",
      "\u001b[32m[I 2021-07-30 23:48:54,665]\u001b[0m Trial 16 finished with value: 0.7464000371609067 and parameters: {'C': 1, 'gamma': 0.1, 'kernel': 'poly'}. Best is trial 4 with value: 0.7978214418431809.\u001b[0m\n",
      "\u001b[32m[I 2021-07-30 23:48:54,695]\u001b[0m Trial 17 finished with value: 0.6115601387340518 and parameters: {'C': 0.1, 'gamma': 0.1, 'kernel': 'poly'}. Best is trial 4 with value: 0.7978214418431809.\u001b[0m\n",
      "\u001b[32m[I 2021-07-30 23:48:54,727]\u001b[0m Trial 18 finished with value: 0.7978214418431809 and parameters: {'C': 10, 'gamma': 0.1, 'kernel': 'poly'}. Best is trial 4 with value: 0.7978214418431809.\u001b[0m\n",
      "\u001b[32m[I 2021-07-30 23:48:54,761]\u001b[0m Trial 19 finished with value: 0.6115601387340518 and parameters: {'C': 100, 'gamma': 0.001, 'kernel': 'poly'}. Best is trial 4 with value: 0.7978214418431809.\u001b[0m\n",
      "\u001b[32m[I 2021-07-30 23:48:54,797]\u001b[0m Trial 20 finished with value: 0.7962033940294809 and parameters: {'C': 10, 'gamma': 0.1, 'kernel': 'rbf'}. Best is trial 4 with value: 0.7978214418431809.\u001b[0m\n",
      "\u001b[32m[I 2021-07-30 23:48:54,827]\u001b[0m Trial 21 finished with value: 0.7978214418431809 and parameters: {'C': 10, 'gamma': 0.1, 'kernel': 'poly'}. Best is trial 4 with value: 0.7978214418431809.\u001b[0m\n",
      "\u001b[32m[I 2021-07-30 23:48:54,861]\u001b[0m Trial 22 finished with value: 0.7978214418431809 and parameters: {'C': 10, 'gamma': 0.1, 'kernel': 'poly'}. Best is trial 4 with value: 0.7978214418431809.\u001b[0m\n",
      "\u001b[32m[I 2021-07-30 23:48:54,896]\u001b[0m Trial 23 finished with value: 0.7978214418431809 and parameters: {'C': 10, 'gamma': 0.1, 'kernel': 'poly'}. Best is trial 4 with value: 0.7978214418431809.\u001b[0m\n",
      "\u001b[32m[I 2021-07-30 23:48:54,929]\u001b[0m Trial 24 finished with value: 0.7978214418431809 and parameters: {'C': 10, 'gamma': 0.1, 'kernel': 'poly'}. Best is trial 4 with value: 0.7978214418431809.\u001b[0m\n",
      "\u001b[32m[I 2021-07-30 23:48:54,962]\u001b[0m Trial 25 finished with value: 0.7833519137866963 and parameters: {'C': 10, 'gamma': 0.1, 'kernel': 'sigmoid'}. Best is trial 4 with value: 0.7978214418431809.\u001b[0m\n",
      "\u001b[32m[I 2021-07-30 23:48:54,998]\u001b[0m Trial 26 finished with value: 0.7978214418431809 and parameters: {'C': 10, 'gamma': 0.1, 'kernel': 'poly'}. Best is trial 4 with value: 0.7978214418431809.\u001b[0m\n",
      "\u001b[32m[I 2021-07-30 23:48:55,043]\u001b[0m Trial 27 finished with value: 0.7865260745695529 and parameters: {'C': 100, 'gamma': 0.1, 'kernel': 'poly'}. Best is trial 4 with value: 0.7978214418431809.\u001b[0m\n",
      "\u001b[32m[I 2021-07-30 23:48:55,081]\u001b[0m Trial 28 finished with value: 0.7978214418431809 and parameters: {'C': 10, 'gamma': 0.1, 'kernel': 'poly'}. Best is trial 4 with value: 0.7978214418431809.\u001b[0m\n",
      "\u001b[32m[I 2021-07-30 23:48:55,127]\u001b[0m Trial 29 finished with value: 0.6115601387340518 and parameters: {'C': 0.1, 'gamma': 0.001, 'kernel': 'sigmoid'}. Best is trial 4 with value: 0.7978214418431809.\u001b[0m\n",
      "\u001b[32m[I 2021-07-30 23:48:55,163]\u001b[0m Trial 30 finished with value: 0.6115601387340518 and parameters: {'C': 1, 'gamma': 0.01, 'kernel': 'poly'}. Best is trial 4 with value: 0.7978214418431809.\u001b[0m\n",
      "\u001b[32m[I 2021-07-30 23:48:55,199]\u001b[0m Trial 31 finished with value: 0.7978214418431809 and parameters: {'C': 10, 'gamma': 0.1, 'kernel': 'poly'}. Best is trial 4 with value: 0.7978214418431809.\u001b[0m\n",
      "\u001b[32m[I 2021-07-30 23:48:55,242]\u001b[0m Trial 32 finished with value: 0.7978214418431809 and parameters: {'C': 10, 'gamma': 0.1, 'kernel': 'poly'}. Best is trial 4 with value: 0.7978214418431809.\u001b[0m\n",
      "\u001b[32m[I 2021-07-30 23:48:55,277]\u001b[0m Trial 33 finished with value: 0.7978214418431809 and parameters: {'C': 10, 'gamma': 0.1, 'kernel': 'poly'}. Best is trial 4 with value: 0.7978214418431809.\u001b[0m\n",
      "\u001b[32m[I 2021-07-30 23:48:55,506]\u001b[0m Trial 34 finished with value: 0.772064288368636 and parameters: {'C': 10, 'gamma': 1, 'kernel': 'poly'}. Best is trial 4 with value: 0.7978214418431809.\u001b[0m\n",
      "\u001b[32m[I 2021-07-30 23:48:55,542]\u001b[0m Trial 35 finished with value: 0.7833519137866963 and parameters: {'C': 10, 'gamma': 0.1, 'kernel': 'sigmoid'}. Best is trial 4 with value: 0.7978214418431809.\u001b[0m\n",
      "\u001b[32m[I 2021-07-30 23:48:55,578]\u001b[0m Trial 36 finished with value: 0.7978214418431809 and parameters: {'C': 10, 'gamma': 0.1, 'kernel': 'poly'}. Best is trial 4 with value: 0.7978214418431809.\u001b[0m\n",
      "\u001b[32m[I 2021-07-30 23:48:55,637]\u001b[0m Trial 37 finished with value: 0.789738944630249 and parameters: {'C': 100, 'gamma': 0.1, 'kernel': 'rbf'}. Best is trial 4 with value: 0.7978214418431809.\u001b[0m\n",
      "\u001b[32m[I 2021-07-30 23:48:55,675]\u001b[0m Trial 38 finished with value: 0.6115601387340518 and parameters: {'C': 10, 'gamma': 0.01, 'kernel': 'poly'}. Best is trial 4 with value: 0.7978214418431809.\u001b[0m\n",
      "\u001b[32m[I 2021-07-30 23:48:55,711]\u001b[0m Trial 39 finished with value: 0.6115601387340518 and parameters: {'C': 10, 'gamma': 0.001, 'kernel': 'poly'}. Best is trial 4 with value: 0.7978214418431809.\u001b[0m\n",
      "\u001b[32m[I 2021-07-30 23:48:55,761]\u001b[0m Trial 40 finished with value: 0.701512758577976 and parameters: {'C': 1, 'gamma': 1, 'kernel': 'sigmoid'}. Best is trial 4 with value: 0.7978214418431809.\u001b[0m\n"
     ]
    },
    {
     "name": "stderr",
     "output_type": "stream",
     "text": [
      "\u001b[32m[I 2021-07-30 23:48:55,796]\u001b[0m Trial 41 finished with value: 0.7978214418431809 and parameters: {'C': 10, 'gamma': 0.1, 'kernel': 'poly'}. Best is trial 4 with value: 0.7978214418431809.\u001b[0m\n",
      "\u001b[32m[I 2021-07-30 23:48:55,838]\u001b[0m Trial 42 finished with value: 0.7978214418431809 and parameters: {'C': 10, 'gamma': 0.1, 'kernel': 'poly'}. Best is trial 4 with value: 0.7978214418431809.\u001b[0m\n",
      "\u001b[32m[I 2021-07-30 23:48:55,872]\u001b[0m Trial 43 finished with value: 0.7978214418431809 and parameters: {'C': 10, 'gamma': 0.1, 'kernel': 'poly'}. Best is trial 4 with value: 0.7978214418431809.\u001b[0m\n",
      "\u001b[32m[I 2021-07-30 23:48:55,907]\u001b[0m Trial 44 finished with value: 0.7978214418431809 and parameters: {'C': 10, 'gamma': 0.1, 'kernel': 'poly'}. Best is trial 4 with value: 0.7978214418431809.\u001b[0m\n",
      "\u001b[32m[I 2021-07-30 23:48:55,939]\u001b[0m Trial 45 finished with value: 0.7978214418431809 and parameters: {'C': 10, 'gamma': 0.1, 'kernel': 'poly'}. Best is trial 4 with value: 0.7978214418431809.\u001b[0m\n",
      "\u001b[32m[I 2021-07-30 23:48:55,975]\u001b[0m Trial 46 finished with value: 0.7897931376192245 and parameters: {'C': 0.1, 'gamma': 0.1, 'kernel': 'rbf'}. Best is trial 4 with value: 0.7978214418431809.\u001b[0m\n",
      "\u001b[32m[I 2021-07-30 23:48:56,011]\u001b[0m Trial 47 finished with value: 0.6115601387340518 and parameters: {'C': 10, 'gamma': 0.01, 'kernel': 'poly'}. Best is trial 4 with value: 0.7978214418431809.\u001b[0m\n",
      "\u001b[32m[I 2021-07-30 23:48:56,044]\u001b[0m Trial 48 finished with value: 0.7978214418431809 and parameters: {'C': 10, 'gamma': 0.1, 'kernel': 'poly'}. Best is trial 4 with value: 0.7978214418431809.\u001b[0m\n",
      "\u001b[32m[I 2021-07-30 23:48:56,081]\u001b[0m Trial 49 finished with value: 0.7978214418431809 and parameters: {'C': 10, 'gamma': 0.1, 'kernel': 'poly'}. Best is trial 4 with value: 0.7978214418431809.\u001b[0m\n",
      "\u001b[32m[I 2021-07-30 23:48:56,329]\u001b[0m Trial 50 finished with value: 0.772064288368636 and parameters: {'C': 10, 'gamma': 1, 'kernel': 'poly'}. Best is trial 4 with value: 0.7978214418431809.\u001b[0m\n",
      "\u001b[32m[I 2021-07-30 23:48:56,359]\u001b[0m Trial 51 finished with value: 0.7978214418431809 and parameters: {'C': 10, 'gamma': 0.1, 'kernel': 'poly'}. Best is trial 4 with value: 0.7978214418431809.\u001b[0m\n",
      "\u001b[32m[I 2021-07-30 23:48:56,393]\u001b[0m Trial 52 finished with value: 0.7978214418431809 and parameters: {'C': 10, 'gamma': 0.1, 'kernel': 'poly'}. Best is trial 4 with value: 0.7978214418431809.\u001b[0m\n",
      "\u001b[32m[I 2021-07-30 23:48:56,423]\u001b[0m Trial 53 finished with value: 0.7978214418431809 and parameters: {'C': 10, 'gamma': 0.1, 'kernel': 'poly'}. Best is trial 4 with value: 0.7978214418431809.\u001b[0m\n",
      "\u001b[32m[I 2021-07-30 23:48:56,462]\u001b[0m Trial 54 finished with value: 0.7978214418431809 and parameters: {'C': 10, 'gamma': 0.1, 'kernel': 'poly'}. Best is trial 4 with value: 0.7978214418431809.\u001b[0m\n",
      "\u001b[32m[I 2021-07-30 23:48:56,495]\u001b[0m Trial 55 finished with value: 0.7978214418431809 and parameters: {'C': 10, 'gamma': 0.1, 'kernel': 'poly'}. Best is trial 4 with value: 0.7978214418431809.\u001b[0m\n",
      "\u001b[32m[I 2021-07-30 23:48:56,527]\u001b[0m Trial 56 finished with value: 0.7865260745695529 and parameters: {'C': 100, 'gamma': 0.1, 'kernel': 'poly'}. Best is trial 4 with value: 0.7978214418431809.\u001b[0m\n",
      "\u001b[32m[I 2021-07-30 23:48:56,560]\u001b[0m Trial 57 finished with value: 0.7978214418431809 and parameters: {'C': 10, 'gamma': 0.1, 'kernel': 'poly'}. Best is trial 4 with value: 0.7978214418431809.\u001b[0m\n",
      "\u001b[32m[I 2021-07-30 23:48:56,590]\u001b[0m Trial 58 finished with value: 0.7464000371609067 and parameters: {'C': 1, 'gamma': 0.1, 'kernel': 'poly'}. Best is trial 4 with value: 0.7978214418431809.\u001b[0m\n",
      "\u001b[32m[I 2021-07-30 23:48:56,626]\u001b[0m Trial 59 finished with value: 0.6115601387340518 and parameters: {'C': 0.1, 'gamma': 0.001, 'kernel': 'rbf'}. Best is trial 4 with value: 0.7978214418431809.\u001b[0m\n",
      "\u001b[32m[I 2021-07-30 23:48:56,657]\u001b[0m Trial 60 finished with value: 0.7978214418431809 and parameters: {'C': 10, 'gamma': 0.1, 'kernel': 'poly'}. Best is trial 4 with value: 0.7978214418431809.\u001b[0m\n",
      "\u001b[32m[I 2021-07-30 23:48:56,688]\u001b[0m Trial 61 finished with value: 0.7978214418431809 and parameters: {'C': 10, 'gamma': 0.1, 'kernel': 'poly'}. Best is trial 4 with value: 0.7978214418431809.\u001b[0m\n",
      "\u001b[32m[I 2021-07-30 23:48:56,721]\u001b[0m Trial 62 finished with value: 0.7978214418431809 and parameters: {'C': 10, 'gamma': 0.1, 'kernel': 'poly'}. Best is trial 4 with value: 0.7978214418431809.\u001b[0m\n",
      "\u001b[32m[I 2021-07-30 23:48:56,753]\u001b[0m Trial 63 finished with value: 0.7978214418431809 and parameters: {'C': 10, 'gamma': 0.1, 'kernel': 'poly'}. Best is trial 4 with value: 0.7978214418431809.\u001b[0m\n",
      "\u001b[32m[I 2021-07-30 23:48:56,784]\u001b[0m Trial 64 finished with value: 0.7978214418431809 and parameters: {'C': 10, 'gamma': 0.1, 'kernel': 'poly'}. Best is trial 4 with value: 0.7978214418431809.\u001b[0m\n",
      "\u001b[32m[I 2021-07-30 23:48:56,817]\u001b[0m Trial 65 finished with value: 0.7978214418431809 and parameters: {'C': 10, 'gamma': 0.1, 'kernel': 'poly'}. Best is trial 4 with value: 0.7978214418431809.\u001b[0m\n",
      "\u001b[32m[I 2021-07-30 23:48:56,857]\u001b[0m Trial 66 finished with value: 0.7978214418431809 and parameters: {'C': 10, 'gamma': 0.1, 'kernel': 'poly'}. Best is trial 4 with value: 0.7978214418431809.\u001b[0m\n",
      "\u001b[32m[I 2021-07-30 23:48:56,899]\u001b[0m Trial 67 finished with value: 0.7978214418431809 and parameters: {'C': 10, 'gamma': 0.1, 'kernel': 'poly'}. Best is trial 4 with value: 0.7978214418431809.\u001b[0m\n",
      "\u001b[32m[I 2021-07-30 23:48:56,936]\u001b[0m Trial 68 finished with value: 0.7978214418431809 and parameters: {'C': 10, 'gamma': 0.1, 'kernel': 'poly'}. Best is trial 4 with value: 0.7978214418431809.\u001b[0m\n",
      "\u001b[32m[I 2021-07-30 23:48:56,978]\u001b[0m Trial 69 finished with value: 0.7833519137866963 and parameters: {'C': 10, 'gamma': 0.1, 'kernel': 'sigmoid'}. Best is trial 4 with value: 0.7978214418431809.\u001b[0m\n",
      "\u001b[32m[I 2021-07-30 23:48:57,019]\u001b[0m Trial 70 finished with value: 0.6115601387340518 and parameters: {'C': 100, 'gamma': 0.01, 'kernel': 'poly'}. Best is trial 4 with value: 0.7978214418431809.\u001b[0m\n",
      "\u001b[32m[I 2021-07-30 23:48:57,060]\u001b[0m Trial 71 finished with value: 0.7978214418431809 and parameters: {'C': 10, 'gamma': 0.1, 'kernel': 'poly'}. Best is trial 4 with value: 0.7978214418431809.\u001b[0m\n",
      "\u001b[32m[I 2021-07-30 23:48:57,098]\u001b[0m Trial 72 finished with value: 0.7978214418431809 and parameters: {'C': 10, 'gamma': 0.1, 'kernel': 'poly'}. Best is trial 4 with value: 0.7978214418431809.\u001b[0m\n",
      "\u001b[32m[I 2021-07-30 23:48:57,134]\u001b[0m Trial 73 finished with value: 0.7978214418431809 and parameters: {'C': 10, 'gamma': 0.1, 'kernel': 'poly'}. Best is trial 4 with value: 0.7978214418431809.\u001b[0m\n",
      "\u001b[32m[I 2021-07-30 23:48:57,168]\u001b[0m Trial 74 finished with value: 0.7978214418431809 and parameters: {'C': 10, 'gamma': 0.1, 'kernel': 'poly'}. Best is trial 4 with value: 0.7978214418431809.\u001b[0m\n",
      "\u001b[32m[I 2021-07-30 23:48:57,202]\u001b[0m Trial 75 finished with value: 0.7978214418431809 and parameters: {'C': 10, 'gamma': 0.1, 'kernel': 'poly'}. Best is trial 4 with value: 0.7978214418431809.\u001b[0m\n",
      "\u001b[32m[I 2021-07-30 23:48:57,455]\u001b[0m Trial 76 finished with value: 0.772064288368636 and parameters: {'C': 10, 'gamma': 1, 'kernel': 'poly'}. Best is trial 4 with value: 0.7978214418431809.\u001b[0m\n",
      "\u001b[32m[I 2021-07-30 23:48:57,493]\u001b[0m Trial 77 finished with value: 0.7978214418431809 and parameters: {'C': 10, 'gamma': 0.1, 'kernel': 'poly'}. Best is trial 4 with value: 0.7978214418431809.\u001b[0m\n",
      "\u001b[32m[I 2021-07-30 23:48:57,532]\u001b[0m Trial 78 finished with value: 0.7464000371609067 and parameters: {'C': 1, 'gamma': 0.1, 'kernel': 'poly'}. Best is trial 4 with value: 0.7978214418431809.\u001b[0m\n",
      "\u001b[32m[I 2021-07-30 23:48:57,575]\u001b[0m Trial 79 finished with value: 0.6115601387340518 and parameters: {'C': 10, 'gamma': 0.001, 'kernel': 'poly'}. Best is trial 4 with value: 0.7978214418431809.\u001b[0m\n",
      "\u001b[32m[I 2021-07-30 23:48:57,622]\u001b[0m Trial 80 finished with value: 0.7897931376192245 and parameters: {'C': 0.1, 'gamma': 0.1, 'kernel': 'rbf'}. Best is trial 4 with value: 0.7978214418431809.\u001b[0m\n",
      "\u001b[32m[I 2021-07-30 23:48:57,660]\u001b[0m Trial 81 finished with value: 0.7978214418431809 and parameters: {'C': 10, 'gamma': 0.1, 'kernel': 'poly'}. Best is trial 4 with value: 0.7978214418431809.\u001b[0m\n",
      "\u001b[32m[I 2021-07-30 23:48:57,694]\u001b[0m Trial 82 finished with value: 0.7978214418431809 and parameters: {'C': 10, 'gamma': 0.1, 'kernel': 'poly'}. Best is trial 4 with value: 0.7978214418431809.\u001b[0m\n"
     ]
    },
    {
     "name": "stderr",
     "output_type": "stream",
     "text": [
      "\u001b[32m[I 2021-07-30 23:48:57,730]\u001b[0m Trial 83 finished with value: 0.7978214418431809 and parameters: {'C': 10, 'gamma': 0.1, 'kernel': 'poly'}. Best is trial 4 with value: 0.7978214418431809.\u001b[0m\n",
      "\u001b[32m[I 2021-07-30 23:48:57,762]\u001b[0m Trial 84 finished with value: 0.7978214418431809 and parameters: {'C': 10, 'gamma': 0.1, 'kernel': 'poly'}. Best is trial 4 with value: 0.7978214418431809.\u001b[0m\n",
      "\u001b[32m[I 2021-07-30 23:48:57,794]\u001b[0m Trial 85 finished with value: 0.7978214418431809 and parameters: {'C': 10, 'gamma': 0.1, 'kernel': 'poly'}. Best is trial 4 with value: 0.7978214418431809.\u001b[0m\n",
      "\u001b[32m[I 2021-07-30 23:48:57,826]\u001b[0m Trial 86 finished with value: 0.7978214418431809 and parameters: {'C': 10, 'gamma': 0.1, 'kernel': 'poly'}. Best is trial 4 with value: 0.7978214418431809.\u001b[0m\n",
      "\u001b[32m[I 2021-07-30 23:48:57,861]\u001b[0m Trial 87 finished with value: 0.7978214418431809 and parameters: {'C': 10, 'gamma': 0.1, 'kernel': 'poly'}. Best is trial 4 with value: 0.7978214418431809.\u001b[0m\n",
      "\u001b[32m[I 2021-07-30 23:48:57,901]\u001b[0m Trial 88 finished with value: 0.7978214418431809 and parameters: {'C': 10, 'gamma': 0.1, 'kernel': 'poly'}. Best is trial 4 with value: 0.7978214418431809.\u001b[0m\n",
      "\u001b[32m[I 2021-07-30 23:48:57,941]\u001b[0m Trial 89 finished with value: 0.7833519137866963 and parameters: {'C': 10, 'gamma': 0.1, 'kernel': 'sigmoid'}. Best is trial 4 with value: 0.7978214418431809.\u001b[0m\n",
      "\u001b[32m[I 2021-07-30 23:48:57,981]\u001b[0m Trial 90 finished with value: 0.6115601387340518 and parameters: {'C': 10, 'gamma': 0.01, 'kernel': 'poly'}. Best is trial 4 with value: 0.7978214418431809.\u001b[0m\n",
      "\u001b[32m[I 2021-07-30 23:48:58,019]\u001b[0m Trial 91 finished with value: 0.7978214418431809 and parameters: {'C': 10, 'gamma': 0.1, 'kernel': 'poly'}. Best is trial 4 with value: 0.7978214418431809.\u001b[0m\n",
      "\u001b[32m[I 2021-07-30 23:48:58,061]\u001b[0m Trial 92 finished with value: 0.7978214418431809 and parameters: {'C': 10, 'gamma': 0.1, 'kernel': 'poly'}. Best is trial 4 with value: 0.7978214418431809.\u001b[0m\n",
      "\u001b[32m[I 2021-07-30 23:48:58,100]\u001b[0m Trial 93 finished with value: 0.7978214418431809 and parameters: {'C': 10, 'gamma': 0.1, 'kernel': 'poly'}. Best is trial 4 with value: 0.7978214418431809.\u001b[0m\n",
      "\u001b[32m[I 2021-07-30 23:48:58,137]\u001b[0m Trial 94 finished with value: 0.7978214418431809 and parameters: {'C': 10, 'gamma': 0.1, 'kernel': 'poly'}. Best is trial 4 with value: 0.7978214418431809.\u001b[0m\n",
      "\u001b[32m[I 2021-07-30 23:48:58,169]\u001b[0m Trial 95 finished with value: 0.7978214418431809 and parameters: {'C': 10, 'gamma': 0.1, 'kernel': 'poly'}. Best is trial 4 with value: 0.7978214418431809.\u001b[0m\n",
      "\u001b[32m[I 2021-07-30 23:48:58,201]\u001b[0m Trial 96 finished with value: 0.7978214418431809 and parameters: {'C': 10, 'gamma': 0.1, 'kernel': 'poly'}. Best is trial 4 with value: 0.7978214418431809.\u001b[0m\n",
      "\u001b[32m[I 2021-07-30 23:48:58,232]\u001b[0m Trial 97 finished with value: 0.7978214418431809 and parameters: {'C': 10, 'gamma': 0.1, 'kernel': 'poly'}. Best is trial 4 with value: 0.7978214418431809.\u001b[0m\n",
      "\u001b[32m[I 2021-07-30 23:48:58,269]\u001b[0m Trial 98 finished with value: 0.7865260745695529 and parameters: {'C': 100, 'gamma': 0.1, 'kernel': 'poly'}. Best is trial 4 with value: 0.7978214418431809.\u001b[0m\n",
      "\u001b[32m[I 2021-07-30 23:48:58,486]\u001b[0m Trial 99 finished with value: 0.772064288368636 and parameters: {'C': 10, 'gamma': 1, 'kernel': 'poly'}. Best is trial 4 with value: 0.7978214418431809.\u001b[0m\n"
     ]
    }
   ],
   "source": [
    "study=optuna.create_study(direction='maximize')\n",
    "study.optimize(objective,n_trials=100)"
   ]
  },
  {
   "cell_type": "code",
   "execution_count": 48,
   "metadata": {},
   "outputs": [],
   "source": [
    "best=study.best_params"
   ]
  },
  {
   "cell_type": "code",
   "execution_count": 49,
   "metadata": {},
   "outputs": [
    {
     "data": {
      "text/plain": [
       "{'C': 10, 'gamma': 0.1, 'kernel': 'poly'}"
      ]
     },
     "execution_count": 49,
     "metadata": {},
     "output_type": "execute_result"
    }
   ],
   "source": [
    "best"
   ]
  },
  {
   "cell_type": "code",
   "execution_count": 50,
   "metadata": {},
   "outputs": [],
   "source": [
    "classifier=svm.SVC(C=best['C'],gamma=best['gamma'],kernel=best['kernel'])\n",
    "classifier.fit(X_train,y_train)\n",
    "prediction=classifier.predict(X_test)"
   ]
  },
  {
   "cell_type": "code",
   "execution_count": 51,
   "metadata": {},
   "outputs": [
    {
     "name": "stdout",
     "output_type": "stream",
     "text": [
      "[[150  18]\n",
      " [ 35  65]]\n",
      "Accuracy Score : 0.8022388059701493\n",
      "              precision    recall  f1-score   support\n",
      "\n",
      "         0.0       0.81      0.89      0.85       168\n",
      "         1.0       0.78      0.65      0.71       100\n",
      "\n",
      "    accuracy                           0.80       268\n",
      "   macro avg       0.80      0.77      0.78       268\n",
      "weighted avg       0.80      0.80      0.80       268\n",
      "\n"
     ]
    }
   ],
   "source": [
    "from sklearn.metrics import confusion_matrix,classification_report,accuracy_score\n",
    "print(confusion_matrix(y_test,prediction))\n",
    "print(\"Accuracy Score :\",accuracy_score(y_test,prediction))\n",
    "print(classification_report(y_test,prediction))"
   ]
  },
  {
   "cell_type": "code",
   "execution_count": 52,
   "metadata": {},
   "outputs": [],
   "source": [
    "# pip install hyperopt\n",
    "from hyperopt import hp,fmin,tpe,STATUS_OK,Trials\n",
    "space={'C':hp.choice('C',[0.1,1,10,100]),\n",
    "       'gamma':hp.choice('gamma',[1,0.1,0.01,0.001]),\n",
    "       'kernel':hp.choice('kernel',['rbf','poly','sigmoid'])}"
   ]
  },
  {
   "cell_type": "code",
   "execution_count": 53,
   "metadata": {},
   "outputs": [],
   "source": [
    "def objective(space):\n",
    "    classifier=svm.SVC(C=space['C'],gamma=space['gamma'],kernel=space['kernel'])\n",
    "    score=cross_val_score(classifier,X_train,y_train,n_jobs=-1,cv=5).mean()\n",
    "    return{'loss':-score,'status':STATUS_OK}"
   ]
  },
  {
   "cell_type": "code",
   "execution_count": 54,
   "metadata": {},
   "outputs": [
    {
     "name": "stdout",
     "output_type": "stream",
     "text": [
      "100%|████████████████████████████████████████████████| 80/80 [00:08<00:00,  9.99trial/s, best loss: -0.809058064516129]\n"
     ]
    },
    {
     "data": {
      "text/plain": [
       "{'C': 2, 'gamma': 1, 'kernel': 0}"
      ]
     },
     "execution_count": 54,
     "metadata": {},
     "output_type": "execute_result"
    }
   ],
   "source": [
    "trials=Trials()\n",
    "best=fmin(fn=objective,space=space,algo=tpe.suggest,max_evals=80,trials=trials)\n",
    "best"
   ]
  },
  {
   "cell_type": "code",
   "execution_count": 55,
   "metadata": {},
   "outputs": [],
   "source": [
    "ce={0:0.1,1:1,2:10,3:100}\n",
    "gam={0:1,1:0.1,2:0.01,3:0.001}\n",
    "ker={0:'rbf',1:'poly',2:'sigmoid'}"
   ]
  },
  {
   "cell_type": "code",
   "execution_count": 56,
   "metadata": {},
   "outputs": [],
   "source": [
    "classifier=svm.SVC(C=ce[best['C']],gamma=gam[best['gamma']],kernel=ker[best['kernel']])\n",
    "classifier.fit(X_train,y_train)\n",
    "prediction=classifier.predict(X_test)"
   ]
  },
  {
   "cell_type": "code",
   "execution_count": 57,
   "metadata": {},
   "outputs": [
    {
     "name": "stdout",
     "output_type": "stream",
     "text": [
      "[[144  24]\n",
      " [ 32  68]]\n",
      "Accuracy Score : 0.7910447761194029\n",
      "              precision    recall  f1-score   support\n",
      "\n",
      "         0.0       0.82      0.86      0.84       168\n",
      "         1.0       0.74      0.68      0.71       100\n",
      "\n",
      "    accuracy                           0.79       268\n",
      "   macro avg       0.78      0.77      0.77       268\n",
      "weighted avg       0.79      0.79      0.79       268\n",
      "\n"
     ]
    }
   ],
   "source": [
    "from sklearn.metrics import confusion_matrix,classification_report,accuracy_score\n",
    "print(confusion_matrix(y_test,prediction))\n",
    "print(\"Accuracy Score :\",accuracy_score(y_test,prediction))\n",
    "print(classification_report(y_test,prediction))"
   ]
  }
 ],
 "metadata": {
  "kernelspec": {
   "display_name": "Python 3",
   "language": "python",
   "name": "python3"
  },
  "language_info": {
   "codemirror_mode": {
    "name": "ipython",
    "version": 3
   },
   "file_extension": ".py",
   "mimetype": "text/x-python",
   "name": "python",
   "nbconvert_exporter": "python",
   "pygments_lexer": "ipython3",
   "version": "3.8.5"
  }
 },
 "nbformat": 4,
 "nbformat_minor": 4
}
