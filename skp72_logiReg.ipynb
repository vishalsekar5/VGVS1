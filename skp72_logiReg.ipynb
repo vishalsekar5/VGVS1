{
 "cells": [
  {
   "cell_type": "code",
   "execution_count": 1,
   "metadata": {},
   "outputs": [],
   "source": [
    "import pandas as pd\n",
    "import numpy as np\n",
    "import seaborn as sns\n",
    "import matplotlib.pyplot as plt"
   ]
  },
  {
   "cell_type": "code",
   "execution_count": 2,
   "metadata": {},
   "outputs": [],
   "source": [
    "df_ini=pd.read_csv('titanic.csv')"
   ]
  },
  {
   "cell_type": "code",
   "execution_count": 3,
   "metadata": {},
   "outputs": [],
   "source": [
    "for feature in df_ini.columns[:]:\n",
    "    if df_ini[feature].dtype!='object':        \n",
    "        df_ini[feature]=np.where(df_ini[feature].isnull(),df_ini[feature].median(),df_ini[feature])\n",
    "    else:\n",
    "        df_ini[feature]=np.where(df_ini[feature].isnull(),df_ini[feature].value_counts().index[0],df_ini[feature])\n",
    "df_aim=df_ini"
   ]
  },
  {
   "cell_type": "code",
   "execution_count": 4,
   "metadata": {},
   "outputs": [],
   "source": [
    "def reol(feature1):\n",
    "    IQR=df_aim[feature1].quantile(0.75)-df_aim[feature1].quantile(0.25)\n",
    "    lbound=df_aim[feature1].quantile(0.25)-(IQR*1.5)\n",
    "    ubound=df_aim[feature1].quantile(0.75)+(IQR*1.5)\n",
    "    df_aim.loc[df_aim[feature1]<=lbound,feature1]=lbound\n",
    "    df_aim.loc[df_aim[feature1]>=ubound,feature1]=ubound\n",
    "df_aol=df_aim"
   ]
  },
  {
   "cell_type": "code",
   "execution_count": 5,
   "metadata": {},
   "outputs": [],
   "source": [
    "for feature in df_aim.columns[:]:\n",
    "    if df_aim[feature].dtype!='object':\n",
    "        reol(feature)"
   ]
  },
  {
   "cell_type": "code",
   "execution_count": 6,
   "metadata": {},
   "outputs": [],
   "source": [
    "df_aol_cont1=df_aol.select_dtypes(exclude=[object])"
   ]
  },
  {
   "cell_type": "code",
   "execution_count": 7,
   "metadata": {},
   "outputs": [],
   "source": [
    "df_aol_cont2=df_aol_cont1.drop(columns='Pclass',axis=1) #Dropping categorical ordinal features"
   ]
  },
  {
   "cell_type": "code",
   "execution_count": 8,
   "metadata": {},
   "outputs": [],
   "source": [
    "df_aol_cont3=df_aol_cont2.drop('Survived',axis=1)#varience threshold can be applied for independent features only"
   ]
  },
  {
   "cell_type": "code",
   "execution_count": 9,
   "metadata": {},
   "outputs": [
    {
     "data": {
      "text/plain": [
       "VarianceThreshold(threshold=0)"
      ]
     },
     "execution_count": 9,
     "metadata": {},
     "output_type": "execute_result"
    }
   ],
   "source": [
    "from sklearn.feature_selection import VarianceThreshold\n",
    "var_thres=VarianceThreshold(threshold=0)\n",
    "var_thres.fit(df_aol_cont3)"
   ]
  },
  {
   "cell_type": "code",
   "execution_count": 10,
   "metadata": {},
   "outputs": [],
   "source": [
    "const_features=[column for column in df_aol_cont3.columns\\\n",
    "               if column not in df_aol_cont3.columns[var_thres.get_support()]]"
   ]
  },
  {
   "cell_type": "code",
   "execution_count": 11,
   "metadata": {},
   "outputs": [],
   "source": [
    "df_aol=df_aol.drop(const_features,axis=1)#Dropping constant features"
   ]
  },
  {
   "cell_type": "code",
   "execution_count": 12,
   "metadata": {},
   "outputs": [],
   "source": [
    "df_aol_cont3=df_aol_cont3.drop(columns=const_features,axis=1)"
   ]
  },
  {
   "cell_type": "code",
   "execution_count": 13,
   "metadata": {},
   "outputs": [],
   "source": [
    "X=df_aol_cont3\n",
    "y=df_aol_cont2['Survived']"
   ]
  },
  {
   "cell_type": "code",
   "execution_count": 14,
   "metadata": {},
   "outputs": [
    {
     "name": "stdout",
     "output_type": "stream",
     "text": [
      "The Features to be Dropped are...\n"
     ]
    },
    {
     "data": {
      "text/plain": [
       "set()"
      ]
     },
     "execution_count": 14,
     "metadata": {},
     "output_type": "execute_result"
    }
   ],
   "source": [
    "def pcc(dataset,threshold):\n",
    "    dropset=set()\n",
    "    cor_mat=dataset.corr()\n",
    "    for i in range(len(cor_mat.columns)):\n",
    "        for j in range(i):\n",
    "            if abs(cor_mat.iloc[i,j])>=threshold:\n",
    "                cor_feat=cor_mat.columns[i]\n",
    "                dropset.add(cor_feat)\n",
    "    return dropset \n",
    "dropset1=pcc(X,0.85)\n",
    "print(\"The Features to be Dropped are...\")\n",
    "dropset1"
   ]
  },
  {
   "cell_type": "code",
   "execution_count": 15,
   "metadata": {},
   "outputs": [],
   "source": [
    "df_aol=df_aol.drop(columns=dropset1,axis=1)"
   ]
  },
  {
   "cell_type": "code",
   "execution_count": 16,
   "metadata": {},
   "outputs": [],
   "source": [
    "def enc(feature1):\n",
    "    key_labels=df_aol[feature1].unique()\n",
    "    dict={k:i for i,k in enumerate(key_labels,0)}\n",
    "    df_aol[feature1]=df_aol[feature1].map(dict)"
   ]
  },
  {
   "cell_type": "code",
   "execution_count": 17,
   "metadata": {},
   "outputs": [],
   "source": [
    "for feature in df_aol.columns[:]:\n",
    "    if df_aol[feature].dtype=='object':\n",
    "        enc(feature)\n",
    "df_aec=df_aol"
   ]
  },
  {
   "cell_type": "code",
   "execution_count": 18,
   "metadata": {},
   "outputs": [],
   "source": [
    "from sklearn.feature_selection import mutual_info_classif\n",
    "X=df_aec.drop(columns='Survived',axis=1)\n",
    "y=df_aec['Survived']\n",
    "mut_inf_data=mutual_info_classif(X,y,random_state=0)\n",
    "mut_inf_modif=pd.Series(mut_inf_data,index=X.columns)\n",
    "mut_inf_sorted=mut_inf_modif.sort_values(ascending=False)\n",
    "dict=mut_inf_sorted.to_dict()"
   ]
  },
  {
   "cell_type": "code",
   "execution_count": 19,
   "metadata": {},
   "outputs": [],
   "source": [
    "droplist=[]\n",
    "for key in dict:\n",
    "    if dict[key]<0.001:\n",
    "        droplist.append(key)"
   ]
  },
  {
   "cell_type": "code",
   "execution_count": 20,
   "metadata": {},
   "outputs": [],
   "source": [
    "df_aec=df_aec.drop(columns=droplist,axis=1)"
   ]
  },
  {
   "cell_type": "code",
   "execution_count": 21,
   "metadata": {},
   "outputs": [],
   "source": [
    "df_aim_cate1=df_aim.select_dtypes(include=[object])#For imbalanced data check,include all categorical features+Dep. feature"
   ]
  },
  {
   "cell_type": "code",
   "execution_count": 22,
   "metadata": {},
   "outputs": [],
   "source": [
    "df_aim_cate2=df_aim[['Pclass','Survived']].copy()#include categorical ordinal feature and\n",
    "df_aim_cate=pd.concat([df_aim_cate1,df_aim_cate2],axis=1)#dependent feature in the new Data frame."
   ]
  },
  {
   "cell_type": "code",
   "execution_count": 23,
   "metadata": {},
   "outputs": [],
   "source": [
    "imb_chk_list=list()"
   ]
  },
  {
   "cell_type": "code",
   "execution_count": 24,
   "metadata": {},
   "outputs": [],
   "source": [
    "for feature in df_aim_cate.columns[:]:\n",
    "    length=int(len(df_aim_cate[feature].unique()))      \n",
    "    if length <= 5:\n",
    "        imb_chk_list.append(feature)"
   ]
  },
  {
   "cell_type": "code",
   "execution_count": 25,
   "metadata": {},
   "outputs": [],
   "source": [
    "drop_list=[]#Add the independent features with single category, imbalanced data in this list(Difference of values<0.05 and >0.95)"
   ]
  },
  {
   "cell_type": "code",
   "execution_count": 26,
   "metadata": {},
   "outputs": [],
   "source": [
    "df_aec=df_aec.drop(drop_list,axis=1)"
   ]
  },
  {
   "cell_type": "code",
   "execution_count": 27,
   "metadata": {},
   "outputs": [],
   "source": [
    "original_list=['Survived','Pclass','Sex','SibSp','Cabin','Embarked']\n",
    "log_list=['Fare']\n",
    "expo_list=[]\n",
    "sqroot_list=['PassengerId','Name','Ticket']\n",
    "boxcox_list=[]"
   ]
  },
  {
   "cell_type": "code",
   "execution_count": 28,
   "metadata": {},
   "outputs": [],
   "source": [
    "for feature in log_list:\n",
    "    df_aec[feature]=np.log1p(df_aec[feature])"
   ]
  },
  {
   "cell_type": "code",
   "execution_count": 29,
   "metadata": {},
   "outputs": [],
   "source": [
    "for feature in sqroot_list:\n",
    "    df_aec[feature]=df_aec[feature]**(1/2)"
   ]
  },
  {
   "cell_type": "code",
   "execution_count": 30,
   "metadata": {},
   "outputs": [],
   "source": [
    "df_atr=df_aec"
   ]
  },
  {
   "cell_type": "code",
   "execution_count": 31,
   "metadata": {},
   "outputs": [],
   "source": [
    "from sklearn.preprocessing import MinMaxScaler\n",
    "scaler=MinMaxScaler()\n",
    "scaled=scaler.fit_transform(df_atr)"
   ]
  },
  {
   "cell_type": "code",
   "execution_count": 32,
   "metadata": {},
   "outputs": [],
   "source": [
    "df_ast=pd.DataFrame(scaled,columns=df_atr.columns)"
   ]
  },
  {
   "cell_type": "code",
   "execution_count": 33,
   "metadata": {},
   "outputs": [],
   "source": [
    "df_fin=df_ast"
   ]
  },
  {
   "cell_type": "code",
   "execution_count": 34,
   "metadata": {},
   "outputs": [],
   "source": [
    "X=df_fin.drop(columns='Survived',axis=1)\n",
    "y=df_fin['Survived']"
   ]
  },
  {
   "cell_type": "code",
   "execution_count": 35,
   "metadata": {},
   "outputs": [],
   "source": [
    "from sklearn.model_selection import train_test_split"
   ]
  },
  {
   "cell_type": "code",
   "execution_count": 36,
   "metadata": {},
   "outputs": [],
   "source": [
    "X_train,X_test,y_train,y_test=train_test_split(X,y,train_size=0.7,random_state=0)"
   ]
  },
  {
   "cell_type": "code",
   "execution_count": 37,
   "metadata": {},
   "outputs": [],
   "source": [
    "from sklearn.linear_model import LogisticRegression\n",
    "classifier=LogisticRegression()\n",
    "classifier.fit(X_train,y_train)\n",
    "prediction=classifier.predict(X_test)"
   ]
  },
  {
   "cell_type": "code",
   "execution_count": 38,
   "metadata": {},
   "outputs": [
    {
     "name": "stdout",
     "output_type": "stream",
     "text": [
      "[[142  26]\n",
      " [ 27  73]]\n",
      "Accuracy Score : 0.8022388059701493\n",
      "              precision    recall  f1-score   support\n",
      "\n",
      "         0.0       0.84      0.85      0.84       168\n",
      "         1.0       0.74      0.73      0.73       100\n",
      "\n",
      "    accuracy                           0.80       268\n",
      "   macro avg       0.79      0.79      0.79       268\n",
      "weighted avg       0.80      0.80      0.80       268\n",
      "\n"
     ]
    }
   ],
   "source": [
    "from sklearn.metrics import confusion_matrix,classification_report,accuracy_score\n",
    "print(confusion_matrix(y_test,prediction))\n",
    "print(\"Accuracy Score :\",accuracy_score(y_test,prediction))\n",
    "print(classification_report(y_test,prediction))"
   ]
  },
  {
   "cell_type": "code",
   "execution_count": 39,
   "metadata": {},
   "outputs": [
    {
     "data": {
      "text/plain": [
       "dict_keys(['C', 'class_weight', 'dual', 'fit_intercept', 'intercept_scaling', 'l1_ratio', 'max_iter', 'multi_class', 'n_jobs', 'penalty', 'random_state', 'solver', 'tol', 'verbose', 'warm_start'])"
      ]
     },
     "execution_count": 39,
     "metadata": {},
     "output_type": "execute_result"
    }
   ],
   "source": [
    "from sklearn.model_selection import RandomizedSearchCV\n",
    "from sklearn.linear_model import LogisticRegression\n",
    "classifier=LogisticRegression()\n",
    "classifier.get_params().keys()"
   ]
  },
  {
   "cell_type": "code",
   "execution_count": 40,
   "metadata": {},
   "outputs": [],
   "source": [
    "param_grid={'penalty':['l2','l1'],\n",
    "            'C':np.logspace(4,6,10),\n",
    "            'solver':['newton-cg','lbfgs','sags','sag','liblinear']}            "
   ]
  },
  {
   "cell_type": "code",
   "execution_count": 41,
   "metadata": {},
   "outputs": [],
   "source": [
    "grid_search=RandomizedSearchCV(estimator=classifier,param_distributions=param_grid,cv=10,\n",
    "                         verbose=2,random_state=100,n_jobs=-1)"
   ]
  },
  {
   "cell_type": "code",
   "execution_count": 42,
   "metadata": {},
   "outputs": [
    {
     "name": "stdout",
     "output_type": "stream",
     "text": [
      "Fitting 10 folds for each of 10 candidates, totalling 100 fits\n"
     ]
    },
    {
     "name": "stderr",
     "output_type": "stream",
     "text": [
      "[Parallel(n_jobs=-1)]: Using backend LokyBackend with 4 concurrent workers.\n",
      "[Parallel(n_jobs=-1)]: Done  34 tasks      | elapsed:    3.9s\n",
      "[Parallel(n_jobs=-1)]: Done 100 out of 100 | elapsed:    4.1s finished\n"
     ]
    },
    {
     "data": {
      "text/plain": [
       "RandomizedSearchCV(cv=10, estimator=LogisticRegression(), n_jobs=-1,\n",
       "                   param_distributions={'C': array([  10000.        ,   16681.005372  ,   27825.59402207,\n",
       "         46415.88833613,   77426.36826811,  129154.96650149,\n",
       "        215443.46900319,  359381.36638046,  599484.25031894,\n",
       "       1000000.        ]),\n",
       "                                        'penalty': ['l2', 'l1'],\n",
       "                                        'solver': ['newton-cg', 'lbfgs', 'sags',\n",
       "                                                   'sag', 'liblinear']},\n",
       "                   random_state=100, verbose=2)"
      ]
     },
     "execution_count": 42,
     "metadata": {},
     "output_type": "execute_result"
    }
   ],
   "source": [
    "grid_search.fit(X_train,y_train)"
   ]
  },
  {
   "cell_type": "code",
   "execution_count": 43,
   "metadata": {},
   "outputs": [
    {
     "data": {
      "text/plain": [
       "LogisticRegression(C=77426.36826811278)"
      ]
     },
     "execution_count": 43,
     "metadata": {},
     "output_type": "execute_result"
    }
   ],
   "source": [
    "best_grid=grid_search.best_estimator_\n",
    "best_grid"
   ]
  },
  {
   "cell_type": "code",
   "execution_count": 44,
   "metadata": {},
   "outputs": [],
   "source": [
    "prediction=best_grid.predict(X_test)"
   ]
  },
  {
   "cell_type": "code",
   "execution_count": 45,
   "metadata": {},
   "outputs": [
    {
     "name": "stdout",
     "output_type": "stream",
     "text": [
      "[[141  27]\n",
      " [ 26  74]]\n",
      "Accuracy Score : 0.8022388059701493\n",
      "              precision    recall  f1-score   support\n",
      "\n",
      "         0.0       0.84      0.84      0.84       168\n",
      "         1.0       0.73      0.74      0.74       100\n",
      "\n",
      "    accuracy                           0.80       268\n",
      "   macro avg       0.79      0.79      0.79       268\n",
      "weighted avg       0.80      0.80      0.80       268\n",
      "\n"
     ]
    }
   ],
   "source": [
    "from sklearn.metrics import confusion_matrix,classification_report,accuracy_score\n",
    "print(confusion_matrix(y_test,prediction))\n",
    "print(\"Accuracy Score :\",accuracy_score(y_test,prediction))\n",
    "print(classification_report(y_test,prediction))"
   ]
  },
  {
   "cell_type": "code",
   "execution_count": 46,
   "metadata": {},
   "outputs": [],
   "source": [
    "# pip install optuna\n",
    "import optuna\n",
    "from sklearn.model_selection import cross_val_score\n",
    "def objective(trial):\n",
    "    penalty=trial.suggest_categorical('penalty',['l2','l1'])\n",
    "    solver=trial.suggest_categorical('solver',['newton-cg','lbfgs','sags','sag','liblinea'])\n",
    "    C=trial.suggest_uniform('C',0.01,10)\n",
    "    classifier=LogisticRegression(penalty=penalty,solver=solver,C=C)\n",
    "    score=cross_val_score(classifier,X_train,y_train,n_jobs=-1,cv=3).mean()\n",
    "    return score"
   ]
  },
  {
   "cell_type": "code",
   "execution_count": 47,
   "metadata": {},
   "outputs": [
    {
     "name": "stderr",
     "output_type": "stream",
     "text": [
      "\u001b[32m[I 2021-07-27 22:59:52,226]\u001b[0m A new study created in memory with name: no-name-f2db3268-aef2-40ce-a290-7cb2d245dbdd\u001b[0m\n",
      "\u001b[33m[W 2021-07-27 22:59:52,247]\u001b[0m Trial 0 failed, because the objective function returned nan.\u001b[0m\n",
      "\u001b[32m[I 2021-07-27 22:59:52,290]\u001b[0m Trial 1 finished with value: 0.7977904744209092 and parameters: {'penalty': 'l2', 'solver': 'lbfgs', 'C': 9.526236364574254}. Best is trial 1 with value: 0.7977904744209092.\u001b[0m\n",
      "\u001b[33m[W 2021-07-27 22:59:52,310]\u001b[0m Trial 2 failed, because the objective function returned nan.\u001b[0m\n",
      "\u001b[32m[I 2021-07-27 22:59:52,357]\u001b[0m Trial 3 finished with value: 0.7977904744209092 and parameters: {'penalty': 'l2', 'solver': 'lbfgs', 'C': 8.772351448597735}. Best is trial 1 with value: 0.7977904744209092.\u001b[0m\n",
      "\u001b[32m[I 2021-07-27 22:59:52,396]\u001b[0m Trial 4 finished with value: 0.7946085717824848 and parameters: {'penalty': 'l2', 'solver': 'lbfgs', 'C': 0.16491283230442716}. Best is trial 1 with value: 0.7977904744209092.\u001b[0m\n",
      "\u001b[32m[I 2021-07-27 22:59:52,429]\u001b[0m Trial 5 finished with value: 0.7913724761550848 and parameters: {'penalty': 'l2', 'solver': 'sag', 'C': 1.920810727642942}. Best is trial 1 with value: 0.7977904744209092.\u001b[0m\n",
      "\u001b[33m[W 2021-07-27 22:59:52,452]\u001b[0m Trial 6 failed, because the objective function returned nan.\u001b[0m\n",
      "\u001b[32m[I 2021-07-27 22:59:52,500]\u001b[0m Trial 7 finished with value: 0.7961956521739131 and parameters: {'penalty': 'l2', 'solver': 'newton-cg', 'C': 3.163188628370894}. Best is trial 1 with value: 0.7977904744209092.\u001b[0m\n",
      "\u001b[33m[W 2021-07-27 22:59:52,520]\u001b[0m Trial 8 failed, because the objective function returned nan.\u001b[0m\n",
      "\u001b[32m[I 2021-07-27 22:59:52,565]\u001b[0m Trial 9 finished with value: 0.7929827821132168 and parameters: {'penalty': 'l2', 'solver': 'newton-cg', 'C': 1.543411009528643}. Best is trial 1 with value: 0.7977904744209092.\u001b[0m\n",
      "\u001b[33m[W 2021-07-27 22:59:52,586]\u001b[0m Trial 10 failed, because the objective function returned nan.\u001b[0m\n",
      "\u001b[33m[W 2021-07-27 22:59:52,606]\u001b[0m Trial 11 failed, because the objective function returned nan.\u001b[0m\n",
      "\u001b[33m[W 2021-07-27 22:59:52,625]\u001b[0m Trial 12 failed, because the objective function returned nan.\u001b[0m\n",
      "\u001b[33m[W 2021-07-27 22:59:52,647]\u001b[0m Trial 13 failed, because the objective function returned nan.\u001b[0m\n",
      "\u001b[33m[W 2021-07-27 22:59:52,665]\u001b[0m Trial 14 failed, because the objective function returned nan.\u001b[0m\n",
      "\u001b[32m[I 2021-07-27 22:59:52,717]\u001b[0m Trial 15 finished with value: 0.7929827821132168 and parameters: {'penalty': 'l2', 'solver': 'newton-cg', 'C': 1.5544735653493575}. Best is trial 1 with value: 0.7977904744209092.\u001b[0m\n",
      "\u001b[32m[I 2021-07-27 22:59:52,758]\u001b[0m Trial 16 finished with value: 0.794585346215781 and parameters: {'penalty': 'l2', 'solver': 'lbfgs', 'C': 5.144604047303957}. Best is trial 1 with value: 0.7977904744209092.\u001b[0m\n",
      "\u001b[33m[W 2021-07-27 22:59:52,774]\u001b[0m Trial 17 failed, because the objective function returned nan.\u001b[0m\n",
      "\u001b[32m[I 2021-07-27 22:59:52,813]\u001b[0m Trial 18 finished with value: 0.794585346215781 and parameters: {'penalty': 'l2', 'solver': 'lbfgs', 'C': 5.426048501047772}. Best is trial 1 with value: 0.7977904744209092.\u001b[0m\n",
      "\u001b[33m[W 2021-07-27 22:59:52,829]\u001b[0m Trial 19 failed, because the objective function returned nan.\u001b[0m\n",
      "\u001b[32m[I 2021-07-27 22:59:52,871]\u001b[0m Trial 20 finished with value: 0.794585346215781 and parameters: {'penalty': 'l2', 'solver': 'lbfgs', 'C': 5.1201873706326}. Best is trial 1 with value: 0.7977904744209092.\u001b[0m\n",
      "\u001b[33m[W 2021-07-27 22:59:52,895]\u001b[0m Trial 21 failed, because the objective function returned nan.\u001b[0m\n",
      "\u001b[33m[W 2021-07-27 22:59:52,923]\u001b[0m Trial 22 failed, because the objective function returned nan.\u001b[0m\n",
      "\u001b[33m[W 2021-07-27 22:59:52,948]\u001b[0m Trial 23 failed, because the objective function returned nan.\u001b[0m\n",
      "\u001b[33m[W 2021-07-27 22:59:52,975]\u001b[0m Trial 24 failed, because the objective function returned nan.\u001b[0m\n",
      "\u001b[33m[W 2021-07-27 22:59:53,002]\u001b[0m Trial 25 failed, because the objective function returned nan.\u001b[0m\n",
      "\u001b[33m[W 2021-07-27 22:59:53,026]\u001b[0m Trial 26 failed, because the objective function returned nan.\u001b[0m\n",
      "\u001b[33m[W 2021-07-27 22:59:53,051]\u001b[0m Trial 27 failed, because the objective function returned nan.\u001b[0m\n",
      "\u001b[33m[W 2021-07-27 22:59:53,078]\u001b[0m Trial 28 failed, because the objective function returned nan.\u001b[0m\n",
      "\u001b[33m[W 2021-07-27 22:59:53,101]\u001b[0m Trial 29 failed, because the objective function returned nan.\u001b[0m\n",
      "\u001b[33m[W 2021-07-27 22:59:53,123]\u001b[0m Trial 30 failed, because the objective function returned nan.\u001b[0m\n",
      "\u001b[33m[W 2021-07-27 22:59:53,150]\u001b[0m Trial 31 failed, because the objective function returned nan.\u001b[0m\n",
      "\u001b[33m[W 2021-07-27 22:59:53,175]\u001b[0m Trial 32 failed, because the objective function returned nan.\u001b[0m\n",
      "\u001b[33m[W 2021-07-27 22:59:53,201]\u001b[0m Trial 33 failed, because the objective function returned nan.\u001b[0m\n",
      "\u001b[33m[W 2021-07-27 22:59:53,226]\u001b[0m Trial 34 failed, because the objective function returned nan.\u001b[0m\n",
      "\u001b[33m[W 2021-07-27 22:59:53,249]\u001b[0m Trial 35 failed, because the objective function returned nan.\u001b[0m\n",
      "\u001b[33m[W 2021-07-27 22:59:53,272]\u001b[0m Trial 36 failed, because the objective function returned nan.\u001b[0m\n",
      "\u001b[33m[W 2021-07-27 22:59:53,299]\u001b[0m Trial 37 failed, because the objective function returned nan.\u001b[0m\n",
      "\u001b[33m[W 2021-07-27 22:59:53,323]\u001b[0m Trial 38 failed, because the objective function returned nan.\u001b[0m\n",
      "\u001b[33m[W 2021-07-27 22:59:53,350]\u001b[0m Trial 39 failed, because the objective function returned nan.\u001b[0m\n",
      "\u001b[33m[W 2021-07-27 22:59:53,372]\u001b[0m Trial 40 failed, because the objective function returned nan.\u001b[0m\n",
      "\u001b[33m[W 2021-07-27 22:59:53,400]\u001b[0m Trial 41 failed, because the objective function returned nan.\u001b[0m\n",
      "\u001b[33m[W 2021-07-27 22:59:53,423]\u001b[0m Trial 42 failed, because the objective function returned nan.\u001b[0m\n",
      "\u001b[33m[W 2021-07-27 22:59:53,452]\u001b[0m Trial 43 failed, because the objective function returned nan.\u001b[0m\n",
      "\u001b[33m[W 2021-07-27 22:59:53,478]\u001b[0m Trial 44 failed, because the objective function returned nan.\u001b[0m\n",
      "\u001b[33m[W 2021-07-27 22:59:53,509]\u001b[0m Trial 45 failed, because the objective function returned nan.\u001b[0m\n",
      "\u001b[33m[W 2021-07-27 22:59:53,539]\u001b[0m Trial 46 failed, because the objective function returned nan.\u001b[0m\n",
      "\u001b[33m[W 2021-07-27 22:59:53,560]\u001b[0m Trial 47 failed, because the objective function returned nan.\u001b[0m\n",
      "\u001b[33m[W 2021-07-27 22:59:53,584]\u001b[0m Trial 48 failed, because the objective function returned nan.\u001b[0m\n",
      "\u001b[33m[W 2021-07-27 22:59:53,609]\u001b[0m Trial 49 failed, because the objective function returned nan.\u001b[0m\n",
      "\u001b[33m[W 2021-07-27 22:59:53,635]\u001b[0m Trial 50 failed, because the objective function returned nan.\u001b[0m\n",
      "\u001b[33m[W 2021-07-27 22:59:53,658]\u001b[0m Trial 51 failed, because the objective function returned nan.\u001b[0m\n",
      "\u001b[33m[W 2021-07-27 22:59:53,687]\u001b[0m Trial 52 failed, because the objective function returned nan.\u001b[0m\n",
      "\u001b[33m[W 2021-07-27 22:59:53,709]\u001b[0m Trial 53 failed, because the objective function returned nan.\u001b[0m\n",
      "\u001b[33m[W 2021-07-27 22:59:53,735]\u001b[0m Trial 54 failed, because the objective function returned nan.\u001b[0m\n",
      "\u001b[33m[W 2021-07-27 22:59:53,758]\u001b[0m Trial 55 failed, because the objective function returned nan.\u001b[0m\n",
      "\u001b[33m[W 2021-07-27 22:59:53,784]\u001b[0m Trial 56 failed, because the objective function returned nan.\u001b[0m\n",
      "\u001b[33m[W 2021-07-27 22:59:53,809]\u001b[0m Trial 57 failed, because the objective function returned nan.\u001b[0m\n",
      "\u001b[33m[W 2021-07-27 22:59:53,832]\u001b[0m Trial 58 failed, because the objective function returned nan.\u001b[0m\n",
      "\u001b[33m[W 2021-07-27 22:59:53,857]\u001b[0m Trial 59 failed, because the objective function returned nan.\u001b[0m\n",
      "\u001b[33m[W 2021-07-27 22:59:53,882]\u001b[0m Trial 60 failed, because the objective function returned nan.\u001b[0m\n",
      "\u001b[33m[W 2021-07-27 22:59:53,907]\u001b[0m Trial 61 failed, because the objective function returned nan.\u001b[0m\n",
      "\u001b[33m[W 2021-07-27 22:59:53,932]\u001b[0m Trial 62 failed, because the objective function returned nan.\u001b[0m\n",
      "\u001b[33m[W 2021-07-27 22:59:53,957]\u001b[0m Trial 63 failed, because the objective function returned nan.\u001b[0m\n",
      "\u001b[33m[W 2021-07-27 22:59:53,979]\u001b[0m Trial 64 failed, because the objective function returned nan.\u001b[0m\n",
      "\u001b[33m[W 2021-07-27 22:59:54,003]\u001b[0m Trial 65 failed, because the objective function returned nan.\u001b[0m\n",
      "\u001b[33m[W 2021-07-27 22:59:54,028]\u001b[0m Trial 66 failed, because the objective function returned nan.\u001b[0m\n",
      "\u001b[33m[W 2021-07-27 22:59:54,052]\u001b[0m Trial 67 failed, because the objective function returned nan.\u001b[0m\n"
     ]
    },
    {
     "name": "stderr",
     "output_type": "stream",
     "text": [
      "\u001b[33m[W 2021-07-27 22:59:54,077]\u001b[0m Trial 68 failed, because the objective function returned nan.\u001b[0m\n",
      "\u001b[33m[W 2021-07-27 22:59:54,103]\u001b[0m Trial 69 failed, because the objective function returned nan.\u001b[0m\n",
      "\u001b[33m[W 2021-07-27 22:59:54,126]\u001b[0m Trial 70 failed, because the objective function returned nan.\u001b[0m\n",
      "\u001b[33m[W 2021-07-27 22:59:54,150]\u001b[0m Trial 71 failed, because the objective function returned nan.\u001b[0m\n",
      "\u001b[33m[W 2021-07-27 22:59:54,175]\u001b[0m Trial 72 failed, because the objective function returned nan.\u001b[0m\n",
      "\u001b[33m[W 2021-07-27 22:59:54,198]\u001b[0m Trial 73 failed, because the objective function returned nan.\u001b[0m\n",
      "\u001b[33m[W 2021-07-27 22:59:54,221]\u001b[0m Trial 74 failed, because the objective function returned nan.\u001b[0m\n",
      "\u001b[33m[W 2021-07-27 22:59:54,244]\u001b[0m Trial 75 failed, because the objective function returned nan.\u001b[0m\n",
      "\u001b[33m[W 2021-07-27 22:59:54,266]\u001b[0m Trial 76 failed, because the objective function returned nan.\u001b[0m\n",
      "\u001b[33m[W 2021-07-27 22:59:54,290]\u001b[0m Trial 77 failed, because the objective function returned nan.\u001b[0m\n",
      "\u001b[33m[W 2021-07-27 22:59:54,315]\u001b[0m Trial 78 failed, because the objective function returned nan.\u001b[0m\n",
      "\u001b[33m[W 2021-07-27 22:59:54,337]\u001b[0m Trial 79 failed, because the objective function returned nan.\u001b[0m\n",
      "\u001b[33m[W 2021-07-27 22:59:54,360]\u001b[0m Trial 80 failed, because the objective function returned nan.\u001b[0m\n",
      "\u001b[33m[W 2021-07-27 22:59:54,386]\u001b[0m Trial 81 failed, because the objective function returned nan.\u001b[0m\n",
      "\u001b[33m[W 2021-07-27 22:59:54,409]\u001b[0m Trial 82 failed, because the objective function returned nan.\u001b[0m\n",
      "\u001b[33m[W 2021-07-27 22:59:54,434]\u001b[0m Trial 83 failed, because the objective function returned nan.\u001b[0m\n",
      "\u001b[33m[W 2021-07-27 22:59:54,458]\u001b[0m Trial 84 failed, because the objective function returned nan.\u001b[0m\n",
      "\u001b[33m[W 2021-07-27 22:59:54,484]\u001b[0m Trial 85 failed, because the objective function returned nan.\u001b[0m\n",
      "\u001b[33m[W 2021-07-27 22:59:54,510]\u001b[0m Trial 86 failed, because the objective function returned nan.\u001b[0m\n",
      "\u001b[33m[W 2021-07-27 22:59:54,536]\u001b[0m Trial 87 failed, because the objective function returned nan.\u001b[0m\n",
      "\u001b[33m[W 2021-07-27 22:59:54,558]\u001b[0m Trial 88 failed, because the objective function returned nan.\u001b[0m\n",
      "\u001b[33m[W 2021-07-27 22:59:54,578]\u001b[0m Trial 89 failed, because the objective function returned nan.\u001b[0m\n",
      "\u001b[33m[W 2021-07-27 22:59:54,600]\u001b[0m Trial 90 failed, because the objective function returned nan.\u001b[0m\n",
      "\u001b[33m[W 2021-07-27 22:59:54,625]\u001b[0m Trial 91 failed, because the objective function returned nan.\u001b[0m\n",
      "\u001b[33m[W 2021-07-27 22:59:54,649]\u001b[0m Trial 92 failed, because the objective function returned nan.\u001b[0m\n",
      "\u001b[33m[W 2021-07-27 22:59:54,673]\u001b[0m Trial 93 failed, because the objective function returned nan.\u001b[0m\n",
      "\u001b[33m[W 2021-07-27 22:59:54,695]\u001b[0m Trial 94 failed, because the objective function returned nan.\u001b[0m\n",
      "\u001b[33m[W 2021-07-27 22:59:54,722]\u001b[0m Trial 95 failed, because the objective function returned nan.\u001b[0m\n",
      "\u001b[33m[W 2021-07-27 22:59:54,746]\u001b[0m Trial 96 failed, because the objective function returned nan.\u001b[0m\n",
      "\u001b[33m[W 2021-07-27 22:59:54,770]\u001b[0m Trial 97 failed, because the objective function returned nan.\u001b[0m\n",
      "\u001b[33m[W 2021-07-27 22:59:54,798]\u001b[0m Trial 98 failed, because the objective function returned nan.\u001b[0m\n",
      "\u001b[33m[W 2021-07-27 22:59:54,818]\u001b[0m Trial 99 failed, because the objective function returned nan.\u001b[0m\n"
     ]
    }
   ],
   "source": [
    "study=optuna.create_study(direction='maximize')\n",
    "study.optimize(objective,n_trials=100)"
   ]
  },
  {
   "cell_type": "code",
   "execution_count": 48,
   "metadata": {},
   "outputs": [],
   "source": [
    "best=study.best_params"
   ]
  },
  {
   "cell_type": "code",
   "execution_count": 49,
   "metadata": {},
   "outputs": [
    {
     "data": {
      "text/plain": [
       "{'penalty': 'l2', 'solver': 'lbfgs', 'C': 9.526236364574254}"
      ]
     },
     "execution_count": 49,
     "metadata": {},
     "output_type": "execute_result"
    }
   ],
   "source": [
    "best"
   ]
  },
  {
   "cell_type": "code",
   "execution_count": 50,
   "metadata": {},
   "outputs": [],
   "source": [
    "classifier=LogisticRegression(penalty=best['penalty'],C=best['C'],solver=best['solver'])\n",
    "classifier.fit(X_train,y_train)\n",
    "prediction=classifier.predict(X_test)"
   ]
  },
  {
   "cell_type": "code",
   "execution_count": 51,
   "metadata": {},
   "outputs": [
    {
     "name": "stdout",
     "output_type": "stream",
     "text": [
      "[[142  26]\n",
      " [ 26  74]]\n",
      "Accuracy Score : 0.8059701492537313\n",
      "              precision    recall  f1-score   support\n",
      "\n",
      "         0.0       0.85      0.85      0.85       168\n",
      "         1.0       0.74      0.74      0.74       100\n",
      "\n",
      "    accuracy                           0.81       268\n",
      "   macro avg       0.79      0.79      0.79       268\n",
      "weighted avg       0.81      0.81      0.81       268\n",
      "\n"
     ]
    }
   ],
   "source": [
    "from sklearn.metrics import confusion_matrix,classification_report,accuracy_score\n",
    "print(confusion_matrix(y_test,prediction))\n",
    "print(\"Accuracy Score :\",accuracy_score(y_test,prediction))\n",
    "print(classification_report(y_test,prediction))"
   ]
  },
  {
   "cell_type": "code",
   "execution_count": 52,
   "metadata": {},
   "outputs": [],
   "source": [
    "# pip install hyperopt\n",
    "from hyperopt import hp,fmin,tpe,STATUS_OK,Trials\n",
    "space={'penalty':hp.choice('penalty',['l2','l1']),\n",
    "       'solver':hp.choice('solver',['newton-cg','lbfgs','sags','sag','liblinea']),\n",
    "       'C':hp.uniform('C',0.01,10)}"
   ]
  },
  {
   "cell_type": "code",
   "execution_count": 53,
   "metadata": {},
   "outputs": [],
   "source": [
    "def objective(space):\n",
    "    classifier=LogisticRegression(penalty=space['penalty'],solver=space['solver'],\n",
    "               C=space['C'])\n",
    "    score=cross_val_score(classifier,X_train,y_train,n_jobs=-1,cv=5).mean()\n",
    "    return{'loss':-score,'status':STATUS_OK}"
   ]
  },
  {
   "cell_type": "code",
   "execution_count": 54,
   "metadata": {},
   "outputs": [
    {
     "name": "stdout",
     "output_type": "stream",
     "text": [
      "100%|███████████████████████████████████████████████| 80/80 [00:02<00:00, 36.36trial/s, best loss: -0.7913806451612904]\n"
     ]
    },
    {
     "data": {
      "text/plain": [
       "{'C': 0.47376354316499514, 'penalty': 0, 'solver': 3}"
      ]
     },
     "execution_count": 54,
     "metadata": {},
     "output_type": "execute_result"
    }
   ],
   "source": [
    "trials=Trials()\n",
    "best=fmin(fn=objective,space=space,algo=tpe.suggest,max_evals=80,trials=trials)\n",
    "best"
   ]
  },
  {
   "cell_type": "code",
   "execution_count": 55,
   "metadata": {},
   "outputs": [],
   "source": [
    "pen={0:'l2',1:'l1'}\n",
    "sol={0:'newton-cg',1:'lbfgs',2:'sags',3:'sag',4:'liblinea'}"
   ]
  },
  {
   "cell_type": "code",
   "execution_count": 56,
   "metadata": {},
   "outputs": [],
   "source": [
    "classifier=LogisticRegression(penalty=pen[best['penalty']],\n",
    "            solver=sol[best['solver']],C=best['C'])\n",
    "classifier.fit(X_train,y_train)\n",
    "prediction=classifier.predict(X_test)"
   ]
  },
  {
   "cell_type": "code",
   "execution_count": 57,
   "metadata": {},
   "outputs": [
    {
     "name": "stdout",
     "output_type": "stream",
     "text": [
      "[[142  26]\n",
      " [ 27  73]]\n",
      "Accuracy Score : 0.8022388059701493\n",
      "              precision    recall  f1-score   support\n",
      "\n",
      "         0.0       0.84      0.85      0.84       168\n",
      "         1.0       0.74      0.73      0.73       100\n",
      "\n",
      "    accuracy                           0.80       268\n",
      "   macro avg       0.79      0.79      0.79       268\n",
      "weighted avg       0.80      0.80      0.80       268\n",
      "\n"
     ]
    }
   ],
   "source": [
    "from sklearn.metrics import confusion_matrix,classification_report,accuracy_score\n",
    "print(confusion_matrix(y_test,prediction))\n",
    "print(\"Accuracy Score :\",accuracy_score(y_test,prediction))\n",
    "print(classification_report(y_test,prediction))"
   ]
  }
 ],
 "metadata": {
  "kernelspec": {
   "display_name": "Python 3",
   "language": "python",
   "name": "python3"
  },
  "language_info": {
   "codemirror_mode": {
    "name": "ipython",
    "version": 3
   },
   "file_extension": ".py",
   "mimetype": "text/x-python",
   "name": "python",
   "nbconvert_exporter": "python",
   "pygments_lexer": "ipython3",
   "version": "3.8.5"
  }
 },
 "nbformat": 4,
 "nbformat_minor": 4
}
