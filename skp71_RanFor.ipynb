{
 "cells": [
  {
   "cell_type": "code",
   "execution_count": 1,
   "metadata": {},
   "outputs": [],
   "source": [
    "import pandas as pd\n",
    "import numpy as np\n",
    "import seaborn as sns\n",
    "import matplotlib.pyplot as plt"
   ]
  },
  {
   "cell_type": "code",
   "execution_count": 2,
   "metadata": {},
   "outputs": [],
   "source": [
    "df_ini=pd.read_csv('titanic.csv')"
   ]
  },
  {
   "cell_type": "code",
   "execution_count": 3,
   "metadata": {},
   "outputs": [],
   "source": [
    "for feature in df_ini.columns[:]:\n",
    "    if df_ini[feature].dtype!='object':        \n",
    "        df_ini[feature]=np.where(df_ini[feature].isnull(),df_ini[feature].median(),df_ini[feature])\n",
    "    else:\n",
    "        df_ini[feature]=np.where(df_ini[feature].isnull(),df_ini[feature].value_counts().index[0],df_ini[feature])\n",
    "df_aim=df_ini"
   ]
  },
  {
   "cell_type": "code",
   "execution_count": 4,
   "metadata": {},
   "outputs": [],
   "source": [
    "def reol(feature1):\n",
    "    IQR=df_aim[feature1].quantile(0.75)-df_aim[feature1].quantile(0.25)\n",
    "    lbound=df_aim[feature1].quantile(0.25)-(IQR*1.5)\n",
    "    ubound=df_aim[feature1].quantile(0.75)+(IQR*1.5)\n",
    "    df_aim.loc[df_aim[feature1]<=lbound,feature1]=lbound\n",
    "    df_aim.loc[df_aim[feature1]>=ubound,feature1]=ubound\n",
    "df_aol=df_aim"
   ]
  },
  {
   "cell_type": "code",
   "execution_count": 5,
   "metadata": {},
   "outputs": [],
   "source": [
    "for feature in df_aim.columns[:]:\n",
    "    if df_aim[feature].dtype!='object':\n",
    "        reol(feature)"
   ]
  },
  {
   "cell_type": "code",
   "execution_count": 6,
   "metadata": {},
   "outputs": [],
   "source": [
    "df_aol_cont1=df_aol.select_dtypes(exclude=[object])"
   ]
  },
  {
   "cell_type": "code",
   "execution_count": 7,
   "metadata": {},
   "outputs": [],
   "source": [
    "df_aol_cont2=df_aol_cont1.drop(columns='Pclass',axis=1) #Dropping categorical ordinal features"
   ]
  },
  {
   "cell_type": "code",
   "execution_count": 8,
   "metadata": {},
   "outputs": [],
   "source": [
    "df_aol_cont3=df_aol_cont2.drop('Survived',axis=1)#varience threshold can be applied for independent features only"
   ]
  },
  {
   "cell_type": "code",
   "execution_count": 9,
   "metadata": {},
   "outputs": [
    {
     "data": {
      "text/plain": [
       "VarianceThreshold(threshold=0)"
      ]
     },
     "execution_count": 9,
     "metadata": {},
     "output_type": "execute_result"
    }
   ],
   "source": [
    "from sklearn.feature_selection import VarianceThreshold\n",
    "var_thres=VarianceThreshold(threshold=0)\n",
    "var_thres.fit(df_aol_cont3)"
   ]
  },
  {
   "cell_type": "code",
   "execution_count": 10,
   "metadata": {},
   "outputs": [],
   "source": [
    "const_features=[column for column in df_aol_cont3.columns\\\n",
    "               if column not in df_aol_cont3.columns[var_thres.get_support()]]"
   ]
  },
  {
   "cell_type": "code",
   "execution_count": 11,
   "metadata": {},
   "outputs": [],
   "source": [
    "df_aol=df_aol.drop(const_features,axis=1)#Dropping constant features"
   ]
  },
  {
   "cell_type": "code",
   "execution_count": 12,
   "metadata": {},
   "outputs": [],
   "source": [
    "df_aol_cont3=df_aol_cont3.drop(columns=const_features,axis=1)"
   ]
  },
  {
   "cell_type": "code",
   "execution_count": 13,
   "metadata": {},
   "outputs": [],
   "source": [
    "X=df_aol_cont3\n",
    "y=df_aol_cont2['Survived']"
   ]
  },
  {
   "cell_type": "code",
   "execution_count": 14,
   "metadata": {},
   "outputs": [
    {
     "name": "stdout",
     "output_type": "stream",
     "text": [
      "The Features to be Dropped are...\n"
     ]
    },
    {
     "data": {
      "text/plain": [
       "set()"
      ]
     },
     "execution_count": 14,
     "metadata": {},
     "output_type": "execute_result"
    }
   ],
   "source": [
    "def pcc(dataset,threshold):\n",
    "    dropset=set()\n",
    "    cor_mat=dataset.corr()\n",
    "    for i in range(len(cor_mat.columns)):\n",
    "        for j in range(i):\n",
    "            if abs(cor_mat.iloc[i,j])>=threshold:\n",
    "                cor_feat=cor_mat.columns[i]\n",
    "                dropset.add(cor_feat)\n",
    "    return dropset \n",
    "dropset1=pcc(X,0.85)\n",
    "print(\"The Features to be Dropped are...\")\n",
    "dropset1"
   ]
  },
  {
   "cell_type": "code",
   "execution_count": 15,
   "metadata": {},
   "outputs": [],
   "source": [
    "df_aol=df_aol.drop(columns=dropset1,axis=1)"
   ]
  },
  {
   "cell_type": "code",
   "execution_count": 16,
   "metadata": {},
   "outputs": [],
   "source": [
    "def enc(feature1):\n",
    "    key_labels=df_aol[feature1].unique()\n",
    "    dict={k:i for i,k in enumerate(key_labels,0)}\n",
    "    df_aol[feature1]=df_aol[feature1].map(dict)"
   ]
  },
  {
   "cell_type": "code",
   "execution_count": 17,
   "metadata": {},
   "outputs": [],
   "source": [
    "for feature in df_aol.columns[:]:\n",
    "    if df_aol[feature].dtype=='object':\n",
    "        enc(feature)\n",
    "df_aec=df_aol"
   ]
  },
  {
   "cell_type": "code",
   "execution_count": 18,
   "metadata": {},
   "outputs": [],
   "source": [
    "from sklearn.feature_selection import mutual_info_classif\n",
    "X=df_aec.drop(columns='Survived',axis=1)\n",
    "y=df_aec['Survived']\n",
    "mut_inf_data=mutual_info_classif(X,y,random_state=0)\n",
    "mut_inf_modif=pd.Series(mut_inf_data,index=X.columns)\n",
    "mut_inf_sorted=mut_inf_modif.sort_values(ascending=False)\n",
    "dict=mut_inf_sorted.to_dict()"
   ]
  },
  {
   "cell_type": "code",
   "execution_count": 19,
   "metadata": {},
   "outputs": [],
   "source": [
    "droplist=[]\n",
    "for key in dict:\n",
    "    if dict[key]<0.001:\n",
    "        droplist.append(key)"
   ]
  },
  {
   "cell_type": "code",
   "execution_count": 20,
   "metadata": {},
   "outputs": [],
   "source": [
    "df_aec=df_aec.drop(columns=droplist,axis=1)"
   ]
  },
  {
   "cell_type": "code",
   "execution_count": 21,
   "metadata": {},
   "outputs": [],
   "source": [
    "df_aim_cate1=df_aim.select_dtypes(include=[object])#For imbalanced data check,include all categorical features+Dep. feature"
   ]
  },
  {
   "cell_type": "code",
   "execution_count": 22,
   "metadata": {},
   "outputs": [],
   "source": [
    "df_aim_cate2=df_aim[['Pclass','Survived']].copy()#include categorical ordinal feature and\n",
    "df_aim_cate=pd.concat([df_aim_cate1,df_aim_cate2],axis=1)#dependent feature in the new Data frame."
   ]
  },
  {
   "cell_type": "code",
   "execution_count": 23,
   "metadata": {},
   "outputs": [],
   "source": [
    "imb_chk_list=list()"
   ]
  },
  {
   "cell_type": "code",
   "execution_count": 24,
   "metadata": {},
   "outputs": [],
   "source": [
    "for feature in df_aim_cate.columns[:]:\n",
    "    length=int(len(df_aim_cate[feature].unique()))      \n",
    "    if length <= 5:\n",
    "        imb_chk_list.append(feature)"
   ]
  },
  {
   "cell_type": "code",
   "execution_count": 25,
   "metadata": {},
   "outputs": [],
   "source": [
    "drop_list=[]#Add the independent features with single category, imbalanced data in this list(Difference of values<0.05 and >0.95)"
   ]
  },
  {
   "cell_type": "code",
   "execution_count": 26,
   "metadata": {},
   "outputs": [],
   "source": [
    "df_aec=df_aec.drop(drop_list,axis=1)"
   ]
  },
  {
   "cell_type": "code",
   "execution_count": 27,
   "metadata": {},
   "outputs": [],
   "source": [
    "original_list=['Survived','Pclass','Sex','SibSp','Cabin','Embarked']\n",
    "log_list=['Fare']\n",
    "expo_list=[]\n",
    "sqroot_list=['PassengerId','Name','Ticket']\n",
    "boxcox_list=[]"
   ]
  },
  {
   "cell_type": "code",
   "execution_count": 28,
   "metadata": {},
   "outputs": [],
   "source": [
    "for feature in log_list:\n",
    "    df_aec[feature]=np.log1p(df_aec[feature])"
   ]
  },
  {
   "cell_type": "code",
   "execution_count": 29,
   "metadata": {},
   "outputs": [],
   "source": [
    "for feature in sqroot_list:\n",
    "    df_aec[feature]=df_aec[feature]**(1/2)"
   ]
  },
  {
   "cell_type": "code",
   "execution_count": 30,
   "metadata": {},
   "outputs": [],
   "source": [
    "df_atr=df_aec"
   ]
  },
  {
   "cell_type": "code",
   "execution_count": 31,
   "metadata": {},
   "outputs": [],
   "source": [
    "from sklearn.preprocessing import MinMaxScaler\n",
    "scaler=MinMaxScaler()\n",
    "scaled=scaler.fit_transform(df_atr)"
   ]
  },
  {
   "cell_type": "code",
   "execution_count": 32,
   "metadata": {},
   "outputs": [],
   "source": [
    "df_ast=pd.DataFrame(scaled,columns=df_atr.columns)"
   ]
  },
  {
   "cell_type": "code",
   "execution_count": 33,
   "metadata": {},
   "outputs": [],
   "source": [
    "df_fin=df_ast"
   ]
  },
  {
   "cell_type": "code",
   "execution_count": 34,
   "metadata": {},
   "outputs": [],
   "source": [
    "X=df_fin.drop(columns='Survived',axis=1)\n",
    "y=df_fin['Survived']"
   ]
  },
  {
   "cell_type": "code",
   "execution_count": 35,
   "metadata": {},
   "outputs": [],
   "source": [
    "from sklearn.model_selection import train_test_split"
   ]
  },
  {
   "cell_type": "code",
   "execution_count": 36,
   "metadata": {},
   "outputs": [],
   "source": [
    "X_train,X_test,y_train,y_test=train_test_split(X,y,train_size=0.7,random_state=0)"
   ]
  },
  {
   "cell_type": "code",
   "execution_count": 37,
   "metadata": {},
   "outputs": [],
   "source": [
    "from sklearn.ensemble import RandomForestClassifier\n",
    "classifier=RandomForestClassifier()\n",
    "classifier.fit(X_train,y_train)\n",
    "prediction=classifier.predict(X_test)"
   ]
  },
  {
   "cell_type": "code",
   "execution_count": 38,
   "metadata": {},
   "outputs": [
    {
     "name": "stdout",
     "output_type": "stream",
     "text": [
      "[[145  23]\n",
      " [ 31  69]]\n",
      "Accuracy Score : 0.7985074626865671\n",
      "              precision    recall  f1-score   support\n",
      "\n",
      "         0.0       0.82      0.86      0.84       168\n",
      "         1.0       0.75      0.69      0.72       100\n",
      "\n",
      "    accuracy                           0.80       268\n",
      "   macro avg       0.79      0.78      0.78       268\n",
      "weighted avg       0.80      0.80      0.80       268\n",
      "\n"
     ]
    }
   ],
   "source": [
    "from sklearn.metrics import confusion_matrix,classification_report,accuracy_score\n",
    "print(confusion_matrix(y_test,prediction))\n",
    "print(\"Accuracy Score :\",accuracy_score(y_test,prediction))\n",
    "print(classification_report(y_test,prediction))"
   ]
  },
  {
   "cell_type": "code",
   "execution_count": 39,
   "metadata": {},
   "outputs": [],
   "source": [
    "from sklearn.model_selection import GridSearchCV\n",
    "from sklearn.ensemble import RandomForestClassifier\n",
    "classifier=RandomForestClassifier()"
   ]
  },
  {
   "cell_type": "code",
   "execution_count": 40,
   "metadata": {},
   "outputs": [],
   "source": [
    "n_estimators=[200,2000,10]\n",
    "max_depth=[10,100,10]\n",
    "max_features=['auto','sqrt','log2']\n",
    "param_grid={'n_estimators':n_estimators,'max_depth':max_depth,\n",
    "            'max_features':max_features,'criterion':['entropy','gini']}"
   ]
  },
  {
   "cell_type": "code",
   "execution_count": 41,
   "metadata": {},
   "outputs": [],
   "source": [
    "grid_search=GridSearchCV(estimator=classifier,param_grid=param_grid,n_jobs=-1,\n",
    "                         cv=10,verbose=2)"
   ]
  },
  {
   "cell_type": "code",
   "execution_count": 42,
   "metadata": {},
   "outputs": [
    {
     "name": "stdout",
     "output_type": "stream",
     "text": [
      "Fitting 10 folds for each of 54 candidates, totalling 540 fits\n"
     ]
    },
    {
     "name": "stderr",
     "output_type": "stream",
     "text": [
      "[Parallel(n_jobs=-1)]: Using backend LokyBackend with 4 concurrent workers.\n",
      "[Parallel(n_jobs=-1)]: Done  33 tasks      | elapsed:   27.8s\n",
      "[Parallel(n_jobs=-1)]: Done 154 tasks      | elapsed:  2.1min\n",
      "[Parallel(n_jobs=-1)]: Done 357 tasks      | elapsed:  4.9min\n",
      "[Parallel(n_jobs=-1)]: Done 540 out of 540 | elapsed:  7.2min finished\n"
     ]
    },
    {
     "data": {
      "text/plain": [
       "GridSearchCV(cv=10, estimator=RandomForestClassifier(), n_jobs=-1,\n",
       "             param_grid={'criterion': ['entropy', 'gini'],\n",
       "                         'max_depth': [10, 100, 10],\n",
       "                         'max_features': ['auto', 'sqrt', 'log2'],\n",
       "                         'n_estimators': [200, 2000, 10]},\n",
       "             verbose=2)"
      ]
     },
     "execution_count": 42,
     "metadata": {},
     "output_type": "execute_result"
    }
   ],
   "source": [
    "grid_search.fit(X_train,y_train)"
   ]
  },
  {
   "cell_type": "code",
   "execution_count": 43,
   "metadata": {},
   "outputs": [
    {
     "data": {
      "text/plain": [
       "RandomForestClassifier(criterion='entropy', max_depth=10, max_features='log2',\n",
       "                       n_estimators=200)"
      ]
     },
     "execution_count": 43,
     "metadata": {},
     "output_type": "execute_result"
    }
   ],
   "source": [
    "best_grid=grid_search.best_estimator_\n",
    "best_grid"
   ]
  },
  {
   "cell_type": "code",
   "execution_count": 44,
   "metadata": {},
   "outputs": [],
   "source": [
    "prediction=best_grid.predict(X_test)"
   ]
  },
  {
   "cell_type": "code",
   "execution_count": 45,
   "metadata": {},
   "outputs": [
    {
     "name": "stdout",
     "output_type": "stream",
     "text": [
      "[[150  18]\n",
      " [ 30  70]]\n",
      "Accuracy Score : 0.8208955223880597\n",
      "              precision    recall  f1-score   support\n",
      "\n",
      "         0.0       0.83      0.89      0.86       168\n",
      "         1.0       0.80      0.70      0.74       100\n",
      "\n",
      "    accuracy                           0.82       268\n",
      "   macro avg       0.81      0.80      0.80       268\n",
      "weighted avg       0.82      0.82      0.82       268\n",
      "\n"
     ]
    }
   ],
   "source": [
    "from sklearn.metrics import confusion_matrix,classification_report,accuracy_score\n",
    "print(confusion_matrix(y_test,prediction))\n",
    "print(\"Accuracy Score :\",accuracy_score(y_test,prediction))\n",
    "print(classification_report(y_test,prediction))"
   ]
  },
  {
   "cell_type": "code",
   "execution_count": 46,
   "metadata": {},
   "outputs": [],
   "source": [
    "# pip install optuna\n",
    "import optuna\n",
    "from sklearn.model_selection import cross_val_score\n",
    "def objective(trial):\n",
    "    n_estimators=trial.suggest_int('n_estimators',200,2000,10)\n",
    "    max_depth=int(trial.suggest_float('max_depth',10,100,log=True))\n",
    "    classifier=RandomForestClassifier(n_estimators=n_estimators,max_depth=max_depth)\n",
    "    score=cross_val_score(classifier,X_train,y_train,n_jobs=-1,cv=3).mean()\n",
    "    return score"
   ]
  },
  {
   "cell_type": "code",
   "execution_count": 47,
   "metadata": {},
   "outputs": [
    {
     "name": "stderr",
     "output_type": "stream",
     "text": [
      "\u001b[32m[I 2021-07-27 22:47:42,154]\u001b[0m A new study created in memory with name: no-name-360e4c83-a260-4165-9592-cd4f366fede0\u001b[0m\n",
      "\u001b[32m[I 2021-07-27 22:47:43,422]\u001b[0m Trial 0 finished with value: 0.7640514678558157 and parameters: {'n_estimators': 380, 'max_depth': 28.135937477695823}. Best is trial 0 with value: 0.7640514678558157.\u001b[0m\n",
      "\u001b[32m[I 2021-07-27 22:47:45,078]\u001b[0m Trial 1 finished with value: 0.7656540319583797 and parameters: {'n_estimators': 500, 'max_depth': 68.02276251867954}. Best is trial 1 with value: 0.7656540319583797.\u001b[0m\n",
      "\u001b[32m[I 2021-07-27 22:47:47,931]\u001b[0m Trial 2 finished with value: 0.7688591601635079 and parameters: {'n_estimators': 870, 'max_depth': 11.600609459578603}. Best is trial 2 with value: 0.7688591601635079.\u001b[0m\n",
      "\u001b[32m[I 2021-07-27 22:47:54,330]\u001b[0m Trial 3 finished with value: 0.7656540319583797 and parameters: {'n_estimators': 1980, 'max_depth': 20.54878013357474}. Best is trial 2 with value: 0.7688591601635079.\u001b[0m\n",
      "\u001b[32m[I 2021-07-27 22:47:59,121]\u001b[0m Trial 4 finished with value: 0.7608463396506875 and parameters: {'n_estimators': 1380, 'max_depth': 39.01504450650533}. Best is trial 2 with value: 0.7688591601635079.\u001b[0m\n",
      "\u001b[32m[I 2021-07-27 22:48:04,417]\u001b[0m Trial 5 finished with value: 0.7560309054874272 and parameters: {'n_estimators': 1640, 'max_depth': 23.693437709835578}. Best is trial 2 with value: 0.7688591601635079.\u001b[0m\n",
      "\u001b[32m[I 2021-07-27 22:48:06,783]\u001b[0m Trial 6 finished with value: 0.7608385977951194 and parameters: {'n_estimators': 740, 'max_depth': 30.86918654851469}. Best is trial 2 with value: 0.7688591601635079.\u001b[0m\n",
      "\u001b[32m[I 2021-07-27 22:48:12,999]\u001b[0m Trial 7 finished with value: 0.7656617738139477 and parameters: {'n_estimators': 1900, 'max_depth': 12.23542749767474}. Best is trial 2 with value: 0.7688591601635079.\u001b[0m\n",
      "\u001b[32m[I 2021-07-27 22:48:18,876]\u001b[0m Trial 8 finished with value: 0.7656462901028118 and parameters: {'n_estimators': 1440, 'max_depth': 14.656297706521691}. Best is trial 2 with value: 0.7688591601635079.\u001b[0m\n",
      "\u001b[32m[I 2021-07-27 22:48:26,172]\u001b[0m Trial 9 finished with value: 0.7640437260002476 and parameters: {'n_estimators': 1870, 'max_depth': 35.816093111984365}. Best is trial 2 with value: 0.7688591601635079.\u001b[0m\n",
      "\u001b[32m[I 2021-07-27 22:48:29,095]\u001b[0m Trial 10 finished with value: 0.7720720302242041 and parameters: {'n_estimators': 930, 'max_depth': 10.41423773867757}. Best is trial 10 with value: 0.7720720302242041.\u001b[0m\n",
      "\u001b[32m[I 2021-07-27 22:48:31,837]\u001b[0m Trial 11 finished with value: 0.7704617242660721 and parameters: {'n_estimators': 870, 'max_depth': 10.144290936718743}. Best is trial 10 with value: 0.7720720302242041.\u001b[0m\n",
      "\u001b[32m[I 2021-07-27 22:48:35,231]\u001b[0m Trial 12 finished with value: 0.7704694661216399 and parameters: {'n_estimators': 1080, 'max_depth': 10.04322820104428}. Best is trial 10 with value: 0.7720720302242041.\u001b[0m\n",
      "\u001b[32m[I 2021-07-27 22:48:39,003]\u001b[0m Trial 13 finished with value: 0.7592282918369874 and parameters: {'n_estimators': 1180, 'max_depth': 16.407372693684813}. Best is trial 10 with value: 0.7720720302242041.\u001b[0m\n",
      "\u001b[32m[I 2021-07-27 22:48:42,569]\u001b[0m Trial 14 finished with value: 0.7624411618976836 and parameters: {'n_estimators': 1100, 'max_depth': 91.04052646280684}. Best is trial 10 with value: 0.7720720302242041.\u001b[0m\n",
      "\u001b[32m[I 2021-07-27 22:48:44,771]\u001b[0m Trial 15 finished with value: 0.7752849002849002 and parameters: {'n_estimators': 650, 'max_depth': 10.726118856191453}. Best is trial 15 with value: 0.7752849002849002.\u001b[0m\n",
      "\u001b[32m[I 2021-07-27 22:48:46,933]\u001b[0m Trial 16 finished with value: 0.7624334200421158 and parameters: {'n_estimators': 670, 'max_depth': 49.89513365532154}. Best is trial 15 with value: 0.7752849002849002.\u001b[0m\n",
      "\u001b[32m[I 2021-07-27 22:48:48,688]\u001b[0m Trial 17 finished with value: 0.7672565960609439 and parameters: {'n_estimators': 530, 'max_depth': 16.156840307853216}. Best is trial 15 with value: 0.7752849002849002.\u001b[0m\n",
      "\u001b[32m[I 2021-07-27 22:48:49,511]\u001b[0m Trial 18 finished with value: 0.7640514678558157 and parameters: {'n_estimators': 240, 'max_depth': 19.624876830151532}. Best is trial 15 with value: 0.7752849002849002.\u001b[0m\n",
      "\u001b[32m[I 2021-07-27 22:48:50,228]\u001b[0m Trial 19 finished with value: 0.76885141830794 and parameters: {'n_estimators': 210, 'max_depth': 13.136042852503364}. Best is trial 15 with value: 0.7752849002849002.\u001b[0m\n",
      "\u001b[32m[I 2021-07-27 22:48:53,053]\u001b[0m Trial 20 finished with value: 0.7688436764523722 and parameters: {'n_estimators': 890, 'max_depth': 10.100937985901362}. Best is trial 15 with value: 0.7752849002849002.\u001b[0m\n",
      "\u001b[32m[I 2021-07-27 22:48:56,358]\u001b[0m Trial 21 finished with value: 0.7672488542053758 and parameters: {'n_estimators': 1020, 'max_depth': 10.759305500071259}. Best is trial 15 with value: 0.7752849002849002.\u001b[0m\n",
      "\u001b[32m[I 2021-07-27 22:49:00,363]\u001b[0m Trial 22 finished with value: 0.7656385482472438 and parameters: {'n_estimators': 1240, 'max_depth': 13.95239143844106}. Best is trial 15 with value: 0.7752849002849002.\u001b[0m\n",
      "\u001b[32m[I 2021-07-27 22:49:03,519]\u001b[0m Trial 23 finished with value: 0.7656462901028118 and parameters: {'n_estimators': 990, 'max_depth': 10.359040408901546}. Best is trial 15 with value: 0.7752849002849002.\u001b[0m\n",
      "\u001b[32m[I 2021-07-27 22:49:05,751]\u001b[0m Trial 24 finished with value: 0.7656617738139477 and parameters: {'n_estimators': 670, 'max_depth': 18.85357594742844}. Best is trial 15 with value: 0.7752849002849002.\u001b[0m\n",
      "\u001b[32m[I 2021-07-27 22:49:10,074]\u001b[0m Trial 25 finished with value: 0.7688436764523722 and parameters: {'n_estimators': 1280, 'max_depth': 12.84876408625752}. Best is trial 15 with value: 0.7752849002849002.\u001b[0m\n",
      "\u001b[32m[I 2021-07-27 22:49:12,573]\u001b[0m Trial 26 finished with value: 0.7640282422891117 and parameters: {'n_estimators': 770, 'max_depth': 10.046466180510466}. Best is trial 15 with value: 0.7752849002849002.\u001b[0m\n",
      "\u001b[32m[I 2021-07-27 22:49:14,197]\u001b[0m Trial 27 finished with value: 0.7656462901028118 and parameters: {'n_estimators': 480, 'max_depth': 15.658990571426596}. Best is trial 15 with value: 0.7752849002849002.\u001b[0m\n",
      "\u001b[32m[I 2021-07-27 22:49:19,241]\u001b[0m Trial 28 finished with value: 0.7624489037532515 and parameters: {'n_estimators': 1590, 'max_depth': 23.10843693536405}. Best is trial 15 with value: 0.7752849002849002.\u001b[0m\n",
      "\u001b[32m[I 2021-07-27 22:49:20,417]\u001b[0m Trial 29 finished with value: 0.772064288368636 and parameters: {'n_estimators': 360, 'max_depth': 11.735136881742308}. Best is trial 15 with value: 0.7752849002849002.\u001b[0m\n",
      "\u001b[32m[I 2021-07-27 22:49:21,506]\u001b[0m Trial 30 finished with value: 0.7624411618976836 and parameters: {'n_estimators': 330, 'max_depth': 25.86424504563752}. Best is trial 15 with value: 0.7752849002849002.\u001b[0m\n",
      "\u001b[32m[I 2021-07-27 22:49:22,783]\u001b[0m Trial 31 finished with value: 0.7656540319583797 and parameters: {'n_estimators': 370, 'max_depth': 11.626488032393421}. Best is trial 15 with value: 0.7752849002849002.\u001b[0m\n",
      "\u001b[32m[I 2021-07-27 22:49:24,644]\u001b[0m Trial 32 finished with value: 0.7736823361823362 and parameters: {'n_estimators': 590, 'max_depth': 10.002008843795597}. Best is trial 15 with value: 0.7752849002849002.\u001b[0m\n",
      "\u001b[32m[I 2021-07-27 22:49:26,515]\u001b[0m Trial 33 finished with value: 0.7704849498327758 and parameters: {'n_estimators': 570, 'max_depth': 11.902770547498523}. Best is trial 15 with value: 0.7752849002849002.\u001b[0m\n",
      "\u001b[32m[I 2021-07-27 22:49:28,107]\u001b[0m Trial 34 finished with value: 0.7592282918369874 and parameters: {'n_estimators': 470, 'max_depth': 17.48164195162123}. Best is trial 15 with value: 0.7752849002849002.\u001b[0m\n",
      "\u001b[32m[I 2021-07-27 22:49:29,102]\u001b[0m Trial 35 finished with value: 0.7608385977951194 and parameters: {'n_estimators': 310, 'max_depth': 13.83632992288635}. Best is trial 15 with value: 0.7752849002849002.\u001b[0m\n",
      "\u001b[32m[I 2021-07-27 22:49:31,131]\u001b[0m Trial 36 finished with value: 0.7688669020190759 and parameters: {'n_estimators': 620, 'max_depth': 11.482723206749522}. Best is trial 15 with value: 0.7752849002849002.\u001b[0m\n",
      "\u001b[32m[I 2021-07-27 22:49:33,433]\u001b[0m Trial 37 finished with value: 0.7624489037532515 and parameters: {'n_estimators': 730, 'max_depth': 64.87885976198753}. Best is trial 15 with value: 0.7752849002849002.\u001b[0m\n",
      "\u001b[32m[I 2021-07-27 22:49:36,066]\u001b[0m Trial 38 finished with value: 0.7640359841446799 and parameters: {'n_estimators': 820, 'max_depth': 12.695630655945575}. Best is trial 15 with value: 0.7752849002849002.\u001b[0m\n"
     ]
    },
    {
     "name": "stderr",
     "output_type": "stream",
     "text": [
      "\u001b[32m[I 2021-07-27 22:49:37,584]\u001b[0m Trial 39 finished with value: 0.7624334200421158 and parameters: {'n_estimators': 450, 'max_depth': 14.618154983928024}. Best is trial 15 with value: 0.7752849002849002.\u001b[0m\n",
      "\u001b[32m[I 2021-07-27 22:49:40,639]\u001b[0m Trial 40 finished with value: 0.76885141830794 and parameters: {'n_estimators': 940, 'max_depth': 11.093798409436657}. Best is trial 15 with value: 0.7752849002849002.\u001b[0m\n",
      "\u001b[32m[I 2021-07-27 22:49:42,600]\u001b[0m Trial 41 finished with value: 0.767241112349808 and parameters: {'n_estimators': 600, 'max_depth': 12.09467330761597}. Best is trial 15 with value: 0.7752849002849002.\u001b[0m\n",
      "\u001b[32m[I 2021-07-27 22:49:44,436]\u001b[0m Trial 42 finished with value: 0.7704617242660721 and parameters: {'n_estimators': 560, 'max_depth': 10.007147225772847}. Best is trial 15 with value: 0.7752849002849002.\u001b[0m\n",
      "\u001b[32m[I 2021-07-27 22:49:45,957]\u001b[0m Trial 43 finished with value: 0.7688591601635079 and parameters: {'n_estimators': 420, 'max_depth': 11.55535011863012}. Best is trial 15 with value: 0.7752849002849002.\u001b[0m\n",
      "\u001b[32m[I 2021-07-27 22:49:48,352]\u001b[0m Trial 44 finished with value: 0.7576257277344235 and parameters: {'n_estimators': 690, 'max_depth': 15.083046498751814}. Best is trial 15 with value: 0.7752849002849002.\u001b[0m\n",
      "\u001b[32m[I 2021-07-27 22:49:51,172]\u001b[0m Trial 45 finished with value: 0.7624334200421158 and parameters: {'n_estimators': 840, 'max_depth': 12.578098959640963}. Best is trial 15 with value: 0.7752849002849002.\u001b[0m\n",
      "\u001b[32m[I 2021-07-27 22:49:52,093]\u001b[0m Trial 46 finished with value: 0.749612907221603 and parameters: {'n_estimators': 270, 'max_depth': 17.90365923541359}. Best is trial 15 with value: 0.7752849002849002.\u001b[0m\n",
      "\u001b[32m[I 2021-07-27 22:49:53,919]\u001b[0m Trial 47 finished with value: 0.7640359841446799 and parameters: {'n_estimators': 560, 'max_depth': 11.106331275046802}. Best is trial 15 with value: 0.7752849002849002.\u001b[0m\n",
      "\u001b[32m[I 2021-07-27 22:49:56,403]\u001b[0m Trial 48 finished with value: 0.7624489037532515 and parameters: {'n_estimators': 770, 'max_depth': 22.840530267663283}. Best is trial 15 with value: 0.7752849002849002.\u001b[0m\n",
      "\u001b[32m[I 2021-07-27 22:49:58,556]\u001b[0m Trial 49 finished with value: 0.7656617738139477 and parameters: {'n_estimators': 600, 'max_depth': 34.7931930119135}. Best is trial 15 with value: 0.7752849002849002.\u001b[0m\n",
      "\u001b[32m[I 2021-07-27 22:49:59,879]\u001b[0m Trial 50 finished with value: 0.7688591601635079 and parameters: {'n_estimators': 380, 'max_depth': 13.997358898838584}. Best is trial 15 with value: 0.7752849002849002.\u001b[0m\n",
      "\u001b[32m[I 2021-07-27 22:50:03,786]\u001b[0m Trial 51 finished with value: 0.7736823361823362 and parameters: {'n_estimators': 1160, 'max_depth': 10.011666424728014}. Best is trial 15 with value: 0.7752849002849002.\u001b[0m\n",
      "\u001b[32m[I 2021-07-27 22:50:07,394]\u001b[0m Trial 52 finished with value: 0.76885141830794 and parameters: {'n_estimators': 1110, 'max_depth': 10.13504127703089}. Best is trial 15 with value: 0.7752849002849002.\u001b[0m\n",
      "\u001b[32m[I 2021-07-27 22:50:12,216]\u001b[0m Trial 53 finished with value: 0.772079772079772 and parameters: {'n_estimators': 1350, 'max_depth': 10.82723164899039}. Best is trial 15 with value: 0.7752849002849002.\u001b[0m\n",
      "\u001b[32m[I 2021-07-27 22:50:17,325]\u001b[0m Trial 54 finished with value: 0.7672488542053758 and parameters: {'n_estimators': 1480, 'max_depth': 10.878147372422246}. Best is trial 15 with value: 0.7752849002849002.\u001b[0m\n",
      "\u001b[32m[I 2021-07-27 22:50:21,342]\u001b[0m Trial 55 finished with value: 0.7608308559395516 and parameters: {'n_estimators': 1260, 'max_depth': 43.54347334260686}. Best is trial 15 with value: 0.7752849002849002.\u001b[0m\n",
      "\u001b[32m[I 2021-07-27 22:50:25,095]\u001b[0m Trial 56 finished with value: 0.7656617738139477 and parameters: {'n_estimators': 1180, 'max_depth': 13.430851518094121}. Best is trial 15 with value: 0.7752849002849002.\u001b[0m\n",
      "\u001b[32m[I 2021-07-27 22:50:29,811]\u001b[0m Trial 57 finished with value: 0.770453982410504 and parameters: {'n_estimators': 1510, 'max_depth': 10.011088791313107}. Best is trial 15 with value: 0.7752849002849002.\u001b[0m\n",
      "\u001b[32m[I 2021-07-27 22:50:34,265]\u001b[0m Trial 58 finished with value: 0.7720720302242041 and parameters: {'n_estimators': 1370, 'max_depth': 10.634681501917532}. Best is trial 15 with value: 0.7752849002849002.\u001b[0m\n",
      "\u001b[32m[I 2021-07-27 22:50:38,673]\u001b[0m Trial 59 finished with value: 0.770453982410504 and parameters: {'n_estimators': 1360, 'max_depth': 10.50173544045264}. Best is trial 15 with value: 0.7752849002849002.\u001b[0m\n",
      "\u001b[32m[I 2021-07-27 22:50:44,427]\u001b[0m Trial 60 finished with value: 0.7688591601635079 and parameters: {'n_estimators': 1790, 'max_depth': 16.439187581868985}. Best is trial 15 with value: 0.7752849002849002.\u001b[0m\n",
      "\u001b[32m[I 2021-07-27 22:50:48,768]\u001b[0m Trial 61 finished with value: 0.76885141830794 and parameters: {'n_estimators': 1340, 'max_depth': 12.383426975562507}. Best is trial 15 with value: 0.7752849002849002.\u001b[0m\n",
      "\u001b[32m[I 2021-07-27 22:50:53,200]\u001b[0m Trial 62 finished with value: 0.7704617242660721 and parameters: {'n_estimators': 1410, 'max_depth': 10.68992201928769}. Best is trial 15 with value: 0.7752849002849002.\u001b[0m\n",
      "\u001b[32m[I 2021-07-27 22:50:56,886]\u001b[0m Trial 63 finished with value: 0.7736745943267681 and parameters: {'n_estimators': 1160, 'max_depth': 10.048214534093269}. Best is trial 15 with value: 0.7752849002849002.\u001b[0m\n",
      "\u001b[32m[I 2021-07-27 22:51:00,728]\u001b[0m Trial 64 finished with value: 0.7720720302242041 and parameters: {'n_estimators': 1160, 'max_depth': 10.017839125921483}. Best is trial 15 with value: 0.7752849002849002.\u001b[0m\n",
      "\u001b[32m[I 2021-07-27 22:51:04,276]\u001b[0m Trial 65 finished with value: 0.7656385482472438 and parameters: {'n_estimators': 1060, 'max_depth': 13.1701291013747}. Best is trial 15 with value: 0.7752849002849002.\u001b[0m\n",
      "\u001b[32m[I 2021-07-27 22:51:08,075]\u001b[0m Trial 66 finished with value: 0.7672565960609439 and parameters: {'n_estimators': 1160, 'max_depth': 11.187596428573732}. Best is trial 15 with value: 0.7752849002849002.\u001b[0m\n",
      "\u001b[32m[I 2021-07-27 22:51:11,970]\u001b[0m Trial 67 finished with value: 0.767241112349808 and parameters: {'n_estimators': 1210, 'max_depth': 10.15854026886165}. Best is trial 15 with value: 0.7752849002849002.\u001b[0m\n",
      "\u001b[32m[I 2021-07-27 22:51:15,096]\u001b[0m Trial 68 finished with value: 0.7656617738139477 and parameters: {'n_estimators': 960, 'max_depth': 12.184138991391167}. Best is trial 15 with value: 0.7752849002849002.\u001b[0m\n",
      "\u001b[32m[I 2021-07-27 22:51:19,185]\u001b[0m Trial 69 finished with value: 0.7560076799207233 and parameters: {'n_estimators': 1300, 'max_depth': 89.13945969393448}. Best is trial 15 with value: 0.7752849002849002.\u001b[0m\n",
      "\u001b[32m[I 2021-07-27 22:51:22,481]\u001b[0m Trial 70 finished with value: 0.773690078037904 and parameters: {'n_estimators': 1030, 'max_depth': 10.004464114512706}. Best is trial 15 with value: 0.7752849002849002.\u001b[0m\n",
      "\u001b[32m[I 2021-07-27 22:51:25,873]\u001b[0m Trial 71 finished with value: 0.7784977703455964 and parameters: {'n_estimators': 1030, 'max_depth': 10.680355489838405}. Best is trial 71 with value: 0.7784977703455964.\u001b[0m\n",
      "\u001b[32m[I 2021-07-27 22:51:29,332]\u001b[0m Trial 72 finished with value: 0.7688591601635079 and parameters: {'n_estimators': 1030, 'max_depth': 10.015022471136836}. Best is trial 71 with value: 0.7784977703455964.\u001b[0m\n",
      "\u001b[32m[I 2021-07-27 22:51:32,305]\u001b[0m Trial 73 finished with value: 0.7688669020190759 and parameters: {'n_estimators': 910, 'max_depth': 11.38017263258131}. Best is trial 71 with value: 0.7784977703455964.\u001b[0m\n",
      "\u001b[32m[I 2021-07-27 22:51:35,933]\u001b[0m Trial 74 finished with value: 0.7624334200421158 and parameters: {'n_estimators': 1120, 'max_depth': 14.446637617057684}. Best is trial 71 with value: 0.7784977703455964.\u001b[0m\n",
      "\u001b[32m[I 2021-07-27 22:51:39,125]\u001b[0m Trial 75 finished with value: 0.7640282422891117 and parameters: {'n_estimators': 1000, 'max_depth': 13.224207083699282}. Best is trial 71 with value: 0.7784977703455964.\u001b[0m\n",
      "\u001b[32m[I 2021-07-27 22:51:43,218]\u001b[0m Trial 76 finished with value: 0.7704617242660721 and parameters: {'n_estimators': 1310, 'max_depth': 10.71394314601093}. Best is trial 71 with value: 0.7784977703455964.\u001b[0m\n",
      "\u001b[32m[I 2021-07-27 22:51:46,892]\u001b[0m Trial 77 finished with value: 0.7688591601635079 and parameters: {'n_estimators': 1160, 'max_depth': 12.029461773393978}. Best is trial 71 with value: 0.7784977703455964.\u001b[0m\n"
     ]
    },
    {
     "name": "stderr",
     "output_type": "stream",
     "text": [
      "\u001b[32m[I 2021-07-27 22:51:51,998]\u001b[0m Trial 78 finished with value: 0.7704617242660721 and parameters: {'n_estimators': 1640, 'max_depth': 10.782436101081212}. Best is trial 71 with value: 0.7784977703455964.\u001b[0m\n",
      "\u001b[32m[I 2021-07-27 22:51:56,715]\u001b[0m Trial 79 finished with value: 0.7672565960609439 and parameters: {'n_estimators': 1430, 'max_depth': 11.423993613722677}. Best is trial 71 with value: 0.7784977703455964.\u001b[0m\n",
      "\u001b[32m[I 2021-07-27 22:52:00,752]\u001b[0m Trial 80 finished with value: 0.7608308559395516 and parameters: {'n_estimators': 1230, 'max_depth': 12.103792749411605}. Best is trial 71 with value: 0.7784977703455964.\u001b[0m\n",
      "\u001b[32m[I 2021-07-27 22:52:04,135]\u001b[0m Trial 81 finished with value: 0.7656385482472438 and parameters: {'n_estimators': 1080, 'max_depth': 10.026259145819175}. Best is trial 71 with value: 0.7784977703455964.\u001b[0m\n",
      "\u001b[32m[I 2021-07-27 22:52:07,127]\u001b[0m Trial 82 finished with value: 0.772064288368636 and parameters: {'n_estimators': 960, 'max_depth': 10.100559279173787}. Best is trial 71 with value: 0.7784977703455964.\u001b[0m\n",
      "\u001b[32m[I 2021-07-27 22:52:11,995]\u001b[0m Trial 83 finished with value: 0.7688591601635079 and parameters: {'n_estimators': 1550, 'max_depth': 10.620829127134613}. Best is trial 71 with value: 0.7784977703455964.\u001b[0m\n",
      "\u001b[32m[I 2021-07-27 22:52:15,377]\u001b[0m Trial 84 finished with value: 0.7688591601635079 and parameters: {'n_estimators': 1050, 'max_depth': 11.546908741666694}. Best is trial 71 with value: 0.7784977703455964.\u001b[0m\n",
      "\u001b[32m[I 2021-07-27 22:52:19,315]\u001b[0m Trial 85 finished with value: 0.7688746438746438 and parameters: {'n_estimators': 1220, 'max_depth': 12.57143578253492}. Best is trial 71 with value: 0.7784977703455964.\u001b[0m\n",
      "\u001b[32m[I 2021-07-27 22:52:22,120]\u001b[0m Trial 86 finished with value: 0.7640437260002476 and parameters: {'n_estimators': 840, 'max_depth': 11.130918301912526}. Best is trial 71 with value: 0.7784977703455964.\u001b[0m\n",
      "\u001b[32m[I 2021-07-27 22:52:25,689]\u001b[0m Trial 87 finished with value: 0.7736823361823362 and parameters: {'n_estimators': 1120, 'max_depth': 10.481743035948712}. Best is trial 71 with value: 0.7784977703455964.\u001b[0m\n",
      "\u001b[32m[I 2021-07-27 22:52:28,597]\u001b[0m Trial 88 finished with value: 0.7672565960609439 and parameters: {'n_estimators': 900, 'max_depth': 15.234005375554814}. Best is trial 71 with value: 0.7784977703455964.\u001b[0m\n",
      "\u001b[32m[I 2021-07-27 22:52:32,625]\u001b[0m Trial 89 finished with value: 0.7672565960609439 and parameters: {'n_estimators': 1270, 'max_depth': 10.005703966116691}. Best is trial 71 with value: 0.7784977703455964.\u001b[0m\n",
      "\u001b[32m[I 2021-07-27 22:52:36,429]\u001b[0m Trial 90 finished with value: 0.7592360336925554 and parameters: {'n_estimators': 1130, 'max_depth': 57.72420358250532}. Best is trial 71 with value: 0.7784977703455964.\u001b[0m\n",
      "\u001b[32m[I 2021-07-27 22:52:40,769]\u001b[0m Trial 91 finished with value: 0.7688436764523722 and parameters: {'n_estimators': 1400, 'max_depth': 10.642262858936569}. Best is trial 71 with value: 0.7784977703455964.\u001b[0m\n",
      "\u001b[32m[I 2021-07-27 22:52:43,968]\u001b[0m Trial 92 finished with value: 0.7656462901028118 and parameters: {'n_estimators': 990, 'max_depth': 11.808784849879364}. Best is trial 71 with value: 0.7784977703455964.\u001b[0m\n",
      "\u001b[32m[I 2021-07-27 22:52:47,684]\u001b[0m Trial 93 finished with value: 0.7704617242660721 and parameters: {'n_estimators': 1200, 'max_depth': 10.449313380910793}. Best is trial 71 with value: 0.7784977703455964.\u001b[0m\n",
      "\u001b[32m[I 2021-07-27 22:52:52,343]\u001b[0m Trial 94 finished with value: 0.7624411618976836 and parameters: {'n_estimators': 1470, 'max_depth': 13.742104094622894}. Best is trial 71 with value: 0.7784977703455964.\u001b[0m\n",
      "\u001b[32m[I 2021-07-27 22:52:56,617]\u001b[0m Trial 95 finished with value: 0.7608385977951194 and parameters: {'n_estimators': 1320, 'max_depth': 12.678029525449803}. Best is trial 71 with value: 0.7784977703455964.\u001b[0m\n",
      "\u001b[32m[I 2021-07-27 22:52:58,335]\u001b[0m Trial 96 finished with value: 0.772064288368636 and parameters: {'n_estimators': 510, 'max_depth': 10.9975582717522}. Best is trial 71 with value: 0.7784977703455964.\u001b[0m\n",
      "\u001b[32m[I 2021-07-27 22:53:02,097]\u001b[0m Trial 97 finished with value: 0.7704694661216399 and parameters: {'n_estimators': 1090, 'max_depth': 10.495724998727013}. Best is trial 71 with value: 0.7784977703455964.\u001b[0m\n",
      "\u001b[32m[I 2021-07-27 22:53:05,802]\u001b[0m Trial 98 finished with value: 0.767241112349808 and parameters: {'n_estimators': 1150, 'max_depth': 11.6405808708066}. Best is trial 71 with value: 0.7784977703455964.\u001b[0m\n",
      "\u001b[32m[I 2021-07-27 22:53:08,359]\u001b[0m Trial 99 finished with value: 0.7592360336925554 and parameters: {'n_estimators': 790, 'max_depth': 27.626952336508992}. Best is trial 71 with value: 0.7784977703455964.\u001b[0m\n"
     ]
    }
   ],
   "source": [
    "study=optuna.create_study(direction='maximize')\n",
    "study.optimize(objective,n_trials=100)"
   ]
  },
  {
   "cell_type": "code",
   "execution_count": 48,
   "metadata": {},
   "outputs": [],
   "source": [
    "best=study.best_params"
   ]
  },
  {
   "cell_type": "code",
   "execution_count": 49,
   "metadata": {},
   "outputs": [
    {
     "data": {
      "text/plain": [
       "{'n_estimators': 1030, 'max_depth': 10.680355489838405}"
      ]
     },
     "execution_count": 49,
     "metadata": {},
     "output_type": "execute_result"
    }
   ],
   "source": [
    "best"
   ]
  },
  {
   "cell_type": "code",
   "execution_count": 50,
   "metadata": {},
   "outputs": [],
   "source": [
    "classifier=RandomForestClassifier(n_estimators=best['n_estimators'],max_depth=best['max_depth'])\n",
    "classifier.fit(X_train,y_train)\n",
    "prediction=classifier.predict(X_test)"
   ]
  },
  {
   "cell_type": "code",
   "execution_count": 51,
   "metadata": {},
   "outputs": [
    {
     "name": "stdout",
     "output_type": "stream",
     "text": [
      "[[148  20]\n",
      " [ 32  68]]\n",
      "Accuracy Score : 0.8059701492537313\n",
      "              precision    recall  f1-score   support\n",
      "\n",
      "         0.0       0.82      0.88      0.85       168\n",
      "         1.0       0.77      0.68      0.72       100\n",
      "\n",
      "    accuracy                           0.81       268\n",
      "   macro avg       0.80      0.78      0.79       268\n",
      "weighted avg       0.80      0.81      0.80       268\n",
      "\n"
     ]
    }
   ],
   "source": [
    "from sklearn.metrics import confusion_matrix,classification_report,accuracy_score\n",
    "print(confusion_matrix(y_test,prediction))\n",
    "print(\"Accuracy Score :\",accuracy_score(y_test,prediction))\n",
    "print(classification_report(y_test,prediction))"
   ]
  },
  {
   "cell_type": "code",
   "execution_count": 52,
   "metadata": {},
   "outputs": [],
   "source": [
    "# pip install hyperopt\n",
    "from hyperopt import hp,fmin,tpe,STATUS_OK,Trials\n",
    "space={'criterion':hp.choice('criterion',['entropy','gini']),\n",
    "       'max_depth':hp.quniform('max_depth',10,2000,10),\n",
    "       'max_features':hp.choice('max_features',['auto','sqrt','log2',None]),\n",
    "       'min_samples_leaf':hp.uniform('min_samples_leaf',0,0.5),\n",
    "       'min_samples_split':hp.uniform('min_samples_split',0,1),\n",
    "       'n_estimators':hp.choice('n_estimators',[10,50,300,750,1200,1300,1500])}"
   ]
  },
  {
   "cell_type": "code",
   "execution_count": 53,
   "metadata": {},
   "outputs": [],
   "source": [
    "def objective(space):\n",
    "    classifier=RandomForestClassifier(n_estimators=space['n_estimators'],max_depth=space['max_depth'],\n",
    "               max_features=space['max_features'],min_samples_leaf=space['min_samples_leaf'],\n",
    "               min_samples_split=space['min_samples_split'])\n",
    "    score=cross_val_score(classifier,X_train,y_train,n_jobs=-1,cv=5).mean()\n",
    "    return{'loss':-score,'status':STATUS_OK}"
   ]
  },
  {
   "cell_type": "code",
   "execution_count": 54,
   "metadata": {},
   "outputs": [
    {
     "name": "stdout",
     "output_type": "stream",
     "text": [
      "100%|████████████████████████████████████████████████| 80/80 [04:49<00:00,  3.62s/trial, best loss: -0.792941935483871]\n"
     ]
    },
    {
     "data": {
      "text/plain": [
       "{'criterion': 1,\n",
       " 'max_depth': 680.0,\n",
       " 'max_features': 2,\n",
       " 'min_samples_leaf': 0.017348698841213372,\n",
       " 'min_samples_split': 0.0780624275926618,\n",
       " 'n_estimators': 0}"
      ]
     },
     "execution_count": 54,
     "metadata": {},
     "output_type": "execute_result"
    }
   ],
   "source": [
    "trials=Trials()\n",
    "best=fmin(fn=objective,space=space,algo=tpe.suggest,max_evals=80,trials=trials)\n",
    "best"
   ]
  },
  {
   "cell_type": "code",
   "execution_count": 55,
   "metadata": {},
   "outputs": [],
   "source": [
    "crit={0:'entropy',1:'gini'}\n",
    "feat={0:'auto',1:'sqrt',2:'log2',3:None}\n",
    "est={0:10,1:50,2:300,3:750,4:1200,5:1300,6:1500}"
   ]
  },
  {
   "cell_type": "code",
   "execution_count": 56,
   "metadata": {},
   "outputs": [],
   "source": [
    "classifier=RandomForestClassifier(criterion=crit[best['criterion']],max_depth=best['max_depth'],\n",
    "            max_features=feat[best['max_features']],min_samples_leaf=best['min_samples_leaf'],\n",
    "            min_samples_split=best['min_samples_split'],n_estimators=est[best['n_estimators']])\n",
    "classifier.fit(X_train,y_train)\n",
    "prediction=classifier.predict(X_test)"
   ]
  },
  {
   "cell_type": "code",
   "execution_count": 57,
   "metadata": {},
   "outputs": [
    {
     "name": "stdout",
     "output_type": "stream",
     "text": [
      "[[148  20]\n",
      " [ 28  72]]\n",
      "Accuracy Score : 0.8208955223880597\n",
      "              precision    recall  f1-score   support\n",
      "\n",
      "         0.0       0.84      0.88      0.86       168\n",
      "         1.0       0.78      0.72      0.75       100\n",
      "\n",
      "    accuracy                           0.82       268\n",
      "   macro avg       0.81      0.80      0.81       268\n",
      "weighted avg       0.82      0.82      0.82       268\n",
      "\n"
     ]
    }
   ],
   "source": [
    "from sklearn.metrics import confusion_matrix,classification_report,accuracy_score\n",
    "print(confusion_matrix(y_test,prediction))\n",
    "print(\"Accuracy Score :\",accuracy_score(y_test,prediction))\n",
    "print(classification_report(y_test,prediction))"
   ]
  }
 ],
 "metadata": {
  "kernelspec": {
   "display_name": "Python 3",
   "language": "python",
   "name": "python3"
  },
  "language_info": {
   "codemirror_mode": {
    "name": "ipython",
    "version": 3
   },
   "file_extension": ".py",
   "mimetype": "text/x-python",
   "name": "python",
   "nbconvert_exporter": "python",
   "pygments_lexer": "ipython3",
   "version": "3.8.5"
  }
 },
 "nbformat": 4,
 "nbformat_minor": 4
}
