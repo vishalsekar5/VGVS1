{
 "cells": [
  {
   "cell_type": "code",
   "execution_count": 1,
   "metadata": {},
   "outputs": [],
   "source": [
    "import pandas as pd\n",
    "import numpy as np\n",
    "import seaborn as sns\n",
    "import matplotlib.pyplot as plt"
   ]
  },
  {
   "cell_type": "code",
   "execution_count": 2,
   "metadata": {},
   "outputs": [],
   "source": [
    "df_ini=pd.read_csv('titanic.csv')"
   ]
  },
  {
   "cell_type": "code",
   "execution_count": 3,
   "metadata": {},
   "outputs": [],
   "source": [
    "for feature in df_ini.columns[:]:\n",
    "    if df_ini[feature].dtype!='object':        \n",
    "        df_ini[feature]=np.where(df_ini[feature].isnull(),df_ini[feature].median(),df_ini[feature])\n",
    "    else:\n",
    "        df_ini[feature]=np.where(df_ini[feature].isnull(),df_ini[feature].value_counts().index[0],df_ini[feature])\n",
    "df_aim=df_ini"
   ]
  },
  {
   "cell_type": "code",
   "execution_count": 4,
   "metadata": {},
   "outputs": [],
   "source": [
    "def reol(feature1):\n",
    "    IQR=df_aim[feature1].quantile(0.75)-df_aim[feature1].quantile(0.25)\n",
    "    lbound=df_aim[feature1].quantile(0.25)-(IQR*1.5)\n",
    "    ubound=df_aim[feature1].quantile(0.75)+(IQR*1.5)\n",
    "    df_aim.loc[df_aim[feature1]<=lbound,feature1]=lbound\n",
    "    df_aim.loc[df_aim[feature1]>=ubound,feature1]=ubound\n",
    "df_aol=df_aim"
   ]
  },
  {
   "cell_type": "code",
   "execution_count": 5,
   "metadata": {},
   "outputs": [],
   "source": [
    "for feature in df_aim.columns[:]:\n",
    "    if df_aim[feature].dtype!='object':\n",
    "        reol(feature)"
   ]
  },
  {
   "cell_type": "code",
   "execution_count": 6,
   "metadata": {},
   "outputs": [],
   "source": [
    "df_aol_cont1=df_aol.select_dtypes(exclude=[object])"
   ]
  },
  {
   "cell_type": "code",
   "execution_count": 7,
   "metadata": {},
   "outputs": [],
   "source": [
    "df_aol_cont2=df_aol_cont1.drop(columns='Pclass',axis=1) #Dropping categorical ordinal features"
   ]
  },
  {
   "cell_type": "code",
   "execution_count": 8,
   "metadata": {},
   "outputs": [],
   "source": [
    "df_aol_cont3=df_aol_cont2.drop('Survived',axis=1)#varience threshold can be applied for independent features only"
   ]
  },
  {
   "cell_type": "code",
   "execution_count": 9,
   "metadata": {},
   "outputs": [
    {
     "data": {
      "text/plain": [
       "VarianceThreshold(threshold=0)"
      ]
     },
     "execution_count": 9,
     "metadata": {},
     "output_type": "execute_result"
    }
   ],
   "source": [
    "from sklearn.feature_selection import VarianceThreshold\n",
    "var_thres=VarianceThreshold(threshold=0)\n",
    "var_thres.fit(df_aol_cont3)"
   ]
  },
  {
   "cell_type": "code",
   "execution_count": 10,
   "metadata": {},
   "outputs": [],
   "source": [
    "const_features=[column for column in df_aol_cont3.columns\\\n",
    "               if column not in df_aol_cont3.columns[var_thres.get_support()]]"
   ]
  },
  {
   "cell_type": "code",
   "execution_count": 11,
   "metadata": {},
   "outputs": [],
   "source": [
    "df_aol=df_aol.drop(const_features,axis=1)#Dropping constant features"
   ]
  },
  {
   "cell_type": "code",
   "execution_count": 12,
   "metadata": {},
   "outputs": [],
   "source": [
    "df_aol_cont3=df_aol_cont3.drop(columns=const_features,axis=1)"
   ]
  },
  {
   "cell_type": "code",
   "execution_count": 13,
   "metadata": {},
   "outputs": [],
   "source": [
    "X=df_aol_cont3\n",
    "y=df_aol_cont2['Survived']"
   ]
  },
  {
   "cell_type": "code",
   "execution_count": 14,
   "metadata": {},
   "outputs": [
    {
     "name": "stdout",
     "output_type": "stream",
     "text": [
      "The Features to be Dropped are...\n"
     ]
    },
    {
     "data": {
      "text/plain": [
       "set()"
      ]
     },
     "execution_count": 14,
     "metadata": {},
     "output_type": "execute_result"
    }
   ],
   "source": [
    "def pcc(dataset,threshold):\n",
    "    dropset=set()\n",
    "    cor_mat=dataset.corr()\n",
    "    for i in range(len(cor_mat.columns)):\n",
    "        for j in range(i):\n",
    "            if abs(cor_mat.iloc[i,j])>=threshold:\n",
    "                cor_feat=cor_mat.columns[i]\n",
    "                dropset.add(cor_feat)\n",
    "    return dropset \n",
    "dropset1=pcc(X,0.85)\n",
    "print(\"The Features to be Dropped are...\")\n",
    "dropset1"
   ]
  },
  {
   "cell_type": "code",
   "execution_count": 15,
   "metadata": {},
   "outputs": [],
   "source": [
    "df_aol=df_aol.drop(columns=dropset1,axis=1)"
   ]
  },
  {
   "cell_type": "code",
   "execution_count": 16,
   "metadata": {},
   "outputs": [],
   "source": [
    "def enc(feature1):\n",
    "    key_labels=df_aol[feature1].unique()\n",
    "    dict={k:i for i,k in enumerate(key_labels,0)}\n",
    "    df_aol[feature1]=df_aol[feature1].map(dict)"
   ]
  },
  {
   "cell_type": "code",
   "execution_count": 17,
   "metadata": {},
   "outputs": [],
   "source": [
    "for feature in df_aol.columns[:]:\n",
    "    if df_aol[feature].dtype=='object':\n",
    "        enc(feature)\n",
    "df_aec=df_aol"
   ]
  },
  {
   "cell_type": "code",
   "execution_count": 18,
   "metadata": {},
   "outputs": [],
   "source": [
    "from sklearn.feature_selection import mutual_info_classif\n",
    "X=df_aec.drop(columns='Survived',axis=1)\n",
    "y=df_aec['Survived']\n",
    "mut_inf_data=mutual_info_classif(X,y,random_state=0)\n",
    "mut_inf_modif=pd.Series(mut_inf_data,index=X.columns)\n",
    "mut_inf_sorted=mut_inf_modif.sort_values(ascending=False)\n",
    "dict=mut_inf_sorted.to_dict()"
   ]
  },
  {
   "cell_type": "code",
   "execution_count": 19,
   "metadata": {},
   "outputs": [],
   "source": [
    "droplist=[]\n",
    "for key in dict:\n",
    "    if dict[key]<0.001:\n",
    "        droplist.append(key)"
   ]
  },
  {
   "cell_type": "code",
   "execution_count": 20,
   "metadata": {},
   "outputs": [],
   "source": [
    "df_aec=df_aec.drop(columns=droplist,axis=1)"
   ]
  },
  {
   "cell_type": "code",
   "execution_count": 21,
   "metadata": {},
   "outputs": [],
   "source": [
    "df_aim_cate1=df_aim.select_dtypes(include=[object])#For imbalanced data check,include all categorical features+Dep. feature"
   ]
  },
  {
   "cell_type": "code",
   "execution_count": 22,
   "metadata": {},
   "outputs": [],
   "source": [
    "df_aim_cate2=df_aim[['Pclass','Survived']].copy()#include categorical ordinal feature and\n",
    "df_aim_cate=pd.concat([df_aim_cate1,df_aim_cate2],axis=1)#dependent feature in the new Data frame."
   ]
  },
  {
   "cell_type": "code",
   "execution_count": 23,
   "metadata": {},
   "outputs": [],
   "source": [
    "imb_chk_list=list()"
   ]
  },
  {
   "cell_type": "code",
   "execution_count": 24,
   "metadata": {},
   "outputs": [],
   "source": [
    "for feature in df_aim_cate.columns[:]:\n",
    "    length=int(len(df_aim_cate[feature].unique()))      \n",
    "    if length <= 5:\n",
    "        imb_chk_list.append(feature)"
   ]
  },
  {
   "cell_type": "code",
   "execution_count": 25,
   "metadata": {},
   "outputs": [],
   "source": [
    "drop_list=[]#Add the independent features with single category, imbalanced data in this list(Difference of values<0.05 and >0.95)"
   ]
  },
  {
   "cell_type": "code",
   "execution_count": 26,
   "metadata": {},
   "outputs": [],
   "source": [
    "df_aec=df_aec.drop(drop_list,axis=1)"
   ]
  },
  {
   "cell_type": "code",
   "execution_count": 27,
   "metadata": {},
   "outputs": [],
   "source": [
    "original_list=['Survived','Pclass','Sex','SibSp','Cabin','Embarked']\n",
    "log_list=['Fare']\n",
    "expo_list=[]\n",
    "sqroot_list=['PassengerId','Name','Ticket']\n",
    "boxcox_list=[]"
   ]
  },
  {
   "cell_type": "code",
   "execution_count": 28,
   "metadata": {},
   "outputs": [],
   "source": [
    "for feature in log_list:\n",
    "    df_aec[feature]=np.log1p(df_aec[feature])"
   ]
  },
  {
   "cell_type": "code",
   "execution_count": 29,
   "metadata": {},
   "outputs": [],
   "source": [
    "for feature in sqroot_list:\n",
    "    df_aec[feature]=df_aec[feature]**(1/2)"
   ]
  },
  {
   "cell_type": "code",
   "execution_count": 30,
   "metadata": {},
   "outputs": [],
   "source": [
    "df_atr=df_aec"
   ]
  },
  {
   "cell_type": "code",
   "execution_count": 31,
   "metadata": {},
   "outputs": [],
   "source": [
    "from sklearn.preprocessing import MinMaxScaler\n",
    "scaler=MinMaxScaler()\n",
    "scaled=scaler.fit_transform(df_atr)"
   ]
  },
  {
   "cell_type": "code",
   "execution_count": 32,
   "metadata": {},
   "outputs": [],
   "source": [
    "df_ast=pd.DataFrame(scaled,columns=df_atr.columns)"
   ]
  },
  {
   "cell_type": "code",
   "execution_count": 33,
   "metadata": {},
   "outputs": [],
   "source": [
    "df_fin=df_ast"
   ]
  },
  {
   "cell_type": "code",
   "execution_count": 34,
   "metadata": {},
   "outputs": [],
   "source": [
    "X=df_fin.drop(columns='Survived',axis=1)\n",
    "y=df_fin['Survived']"
   ]
  },
  {
   "cell_type": "code",
   "execution_count": 35,
   "metadata": {},
   "outputs": [],
   "source": [
    "from sklearn.model_selection import train_test_split"
   ]
  },
  {
   "cell_type": "code",
   "execution_count": 36,
   "metadata": {},
   "outputs": [],
   "source": [
    "X_train,X_test,y_train,y_test=train_test_split(X,y,train_size=0.7,random_state=0)"
   ]
  },
  {
   "cell_type": "code",
   "execution_count": 37,
   "metadata": {},
   "outputs": [],
   "source": [
    "from sklearn.neighbors import KNeighborsClassifier\n",
    "classifier=KNeighborsClassifier()\n",
    "classifier.fit(X_train,y_train)\n",
    "prediction=classifier.predict(X_test)"
   ]
  },
  {
   "cell_type": "code",
   "execution_count": 38,
   "metadata": {},
   "outputs": [
    {
     "name": "stdout",
     "output_type": "stream",
     "text": [
      "[[145  23]\n",
      " [ 28  72]]\n",
      "Accuracy Score : 0.8097014925373134\n",
      "              precision    recall  f1-score   support\n",
      "\n",
      "         0.0       0.84      0.86      0.85       168\n",
      "         1.0       0.76      0.72      0.74       100\n",
      "\n",
      "    accuracy                           0.81       268\n",
      "   macro avg       0.80      0.79      0.79       268\n",
      "weighted avg       0.81      0.81      0.81       268\n",
      "\n"
     ]
    }
   ],
   "source": [
    "from sklearn.metrics import confusion_matrix,classification_report,accuracy_score\n",
    "print(confusion_matrix(y_test,prediction))\n",
    "print(\"Accuracy Score :\",accuracy_score(y_test,prediction))\n",
    "print(classification_report(y_test,prediction))"
   ]
  },
  {
   "cell_type": "code",
   "execution_count": 50,
   "metadata": {},
   "outputs": [],
   "source": [
    "from sklearn.model_selection import GridSearchCV\n",
    "from scipy.stats import reciprocal,uniform\n",
    "classifier=KNeighborsClassifier()"
   ]
  },
  {
   "cell_type": "code",
   "execution_count": 51,
   "metadata": {},
   "outputs": [],
   "source": [
    "param_grid={'n_neighbors':[5,7,9,11,13,15],\n",
    "            'weights':['uniform','distance'],\n",
    "            'metric':['minkowski','euclidean','manhattan']}            "
   ]
  },
  {
   "cell_type": "code",
   "execution_count": 52,
   "metadata": {},
   "outputs": [],
   "source": [
    "grid_search=GridSearchCV(estimator=classifier,param_grid=param_grid,cv=10,\n",
    "                         verbose=2,n_jobs=-1)"
   ]
  },
  {
   "cell_type": "code",
   "execution_count": 53,
   "metadata": {},
   "outputs": [
    {
     "data": {
      "text/plain": [
       "dict_keys(['algorithm', 'leaf_size', 'metric', 'metric_params', 'n_jobs', 'n_neighbors', 'p', 'weights'])"
      ]
     },
     "execution_count": 53,
     "metadata": {},
     "output_type": "execute_result"
    }
   ],
   "source": [
    "classifier.get_params().keys()"
   ]
  },
  {
   "cell_type": "code",
   "execution_count": 54,
   "metadata": {
    "scrolled": true
   },
   "outputs": [
    {
     "name": "stdout",
     "output_type": "stream",
     "text": [
      "Fitting 10 folds for each of 36 candidates, totalling 360 fits\n"
     ]
    },
    {
     "name": "stderr",
     "output_type": "stream",
     "text": [
      "[Parallel(n_jobs=-1)]: Using backend LokyBackend with 4 concurrent workers.\n",
      "[Parallel(n_jobs=-1)]: Done  34 tasks      | elapsed:    3.8s\n",
      "[Parallel(n_jobs=-1)]: Done 360 out of 360 | elapsed:    5.6s finished\n"
     ]
    },
    {
     "data": {
      "text/plain": [
       "GridSearchCV(cv=10, estimator=KNeighborsClassifier(), n_jobs=-1,\n",
       "             param_grid={'metric': ['minkowski', 'euclidean', 'manhattan'],\n",
       "                         'n_neighbors': [5, 7, 9, 11, 13, 15],\n",
       "                         'weights': ['uniform', 'distance']},\n",
       "             verbose=2)"
      ]
     },
     "execution_count": 54,
     "metadata": {},
     "output_type": "execute_result"
    }
   ],
   "source": [
    "grid_search.fit(X_train,y_train)"
   ]
  },
  {
   "cell_type": "code",
   "execution_count": 55,
   "metadata": {},
   "outputs": [
    {
     "data": {
      "text/plain": [
       "KNeighborsClassifier(metric='manhattan', n_neighbors=11)"
      ]
     },
     "execution_count": 55,
     "metadata": {},
     "output_type": "execute_result"
    }
   ],
   "source": [
    "best_grid=grid_search.best_estimator_\n",
    "best_grid"
   ]
  },
  {
   "cell_type": "code",
   "execution_count": 56,
   "metadata": {},
   "outputs": [],
   "source": [
    "prediction=best_grid.predict(X_test)"
   ]
  },
  {
   "cell_type": "code",
   "execution_count": 57,
   "metadata": {},
   "outputs": [
    {
     "name": "stdout",
     "output_type": "stream",
     "text": [
      "[[145  23]\n",
      " [ 27  73]]\n",
      "Accuracy Score : 0.8134328358208955\n",
      "              precision    recall  f1-score   support\n",
      "\n",
      "         0.0       0.84      0.86      0.85       168\n",
      "         1.0       0.76      0.73      0.74       100\n",
      "\n",
      "    accuracy                           0.81       268\n",
      "   macro avg       0.80      0.80      0.80       268\n",
      "weighted avg       0.81      0.81      0.81       268\n",
      "\n"
     ]
    }
   ],
   "source": [
    "from sklearn.metrics import confusion_matrix,classification_report,accuracy_score\n",
    "print(confusion_matrix(y_test,prediction))\n",
    "print(\"Accuracy Score :\",accuracy_score(y_test,prediction))\n",
    "print(classification_report(y_test,prediction))"
   ]
  },
  {
   "cell_type": "code",
   "execution_count": 62,
   "metadata": {},
   "outputs": [],
   "source": [
    "# pip install optuna\n",
    "import optuna\n",
    "from sklearn.model_selection import cross_val_score\n",
    "def objective(trial):\n",
    "    n_neighbors=trial.suggest_categorical('n_neighbors',[5,7,9,11,13,15])\n",
    "    weights=trial.suggest_categorical('weights',['uniform','distance'])\n",
    "    metric=trial.suggest_categorical('metric',['minkowski','euclidean','manhattan'])\n",
    "    classifier=KNeighborsClassifier(n_neighbors=n_neighbors,weights=weights,metric=metric)\n",
    "    score=cross_val_score(classifier,X_train,y_train,n_jobs=-1,cv=3).mean()\n",
    "    return score"
   ]
  },
  {
   "cell_type": "code",
   "execution_count": 63,
   "metadata": {},
   "outputs": [
    {
     "name": "stderr",
     "output_type": "stream",
     "text": [
      "\u001b[32m[I 2021-08-05 22:06:23,181]\u001b[0m A new study created in memory with name: no-name-24cfd1b5-a457-442c-804d-df3265bbe073\u001b[0m\n",
      "\u001b[32m[I 2021-08-05 22:06:26,370]\u001b[0m Trial 0 finished with value: 0.7656462901028118 and parameters: {'n_neighbors': 11, 'weights': 'distance', 'metric': 'minkowski'}. Best is trial 0 with value: 0.7656462901028118.\u001b[0m\n",
      "\u001b[32m[I 2021-08-05 22:06:28,132]\u001b[0m Trial 1 finished with value: 0.7560463891985632 and parameters: {'n_neighbors': 7, 'weights': 'distance', 'metric': 'manhattan'}. Best is trial 0 with value: 0.7656462901028118.\u001b[0m\n",
      "\u001b[32m[I 2021-08-05 22:06:28,192]\u001b[0m Trial 2 finished with value: 0.7913569924439491 and parameters: {'n_neighbors': 13, 'weights': 'uniform', 'metric': 'manhattan'}. Best is trial 2 with value: 0.7913569924439491.\u001b[0m\n",
      "\u001b[32m[I 2021-08-05 22:06:28,231]\u001b[0m Trial 3 finished with value: 0.7881518642388207 and parameters: {'n_neighbors': 7, 'weights': 'uniform', 'metric': 'manhattan'}. Best is trial 2 with value: 0.7913569924439491.\u001b[0m\n",
      "\u001b[32m[I 2021-08-05 22:06:28,272]\u001b[0m Trial 4 finished with value: 0.7785287377678682 and parameters: {'n_neighbors': 15, 'weights': 'uniform', 'metric': 'minkowski'}. Best is trial 2 with value: 0.7913569924439491.\u001b[0m\n",
      "\u001b[32m[I 2021-08-05 22:06:28,302]\u001b[0m Trial 5 finished with value: 0.7785132540567323 and parameters: {'n_neighbors': 15, 'weights': 'distance', 'metric': 'minkowski'}. Best is trial 2 with value: 0.7913569924439491.\u001b[0m\n",
      "\u001b[32m[I 2021-08-05 22:06:28,332]\u001b[0m Trial 6 finished with value: 0.77208751393534 and parameters: {'n_neighbors': 13, 'weights': 'distance', 'metric': 'manhattan'}. Best is trial 2 with value: 0.7913569924439491.\u001b[0m\n",
      "\u001b[32m[I 2021-08-05 22:06:28,362]\u001b[0m Trial 7 finished with value: 0.7464000371609067 and parameters: {'n_neighbors': 5, 'weights': 'distance', 'metric': 'minkowski'}. Best is trial 2 with value: 0.7913569924439491.\u001b[0m\n",
      "\u001b[32m[I 2021-08-05 22:06:28,403]\u001b[0m Trial 8 finished with value: 0.7753003839960361 and parameters: {'n_neighbors': 7, 'weights': 'uniform', 'metric': 'euclidean'}. Best is trial 2 with value: 0.7913569924439491.\u001b[0m\n",
      "\u001b[32m[I 2021-08-05 22:06:28,445]\u001b[0m Trial 9 finished with value: 0.7881441223832528 and parameters: {'n_neighbors': 11, 'weights': 'uniform', 'metric': 'minkowski'}. Best is trial 2 with value: 0.7913569924439491.\u001b[0m\n",
      "\u001b[32m[I 2021-08-05 22:06:28,486]\u001b[0m Trial 10 finished with value: 0.7865493001362567 and parameters: {'n_neighbors': 9, 'weights': 'uniform', 'metric': 'manhattan'}. Best is trial 2 with value: 0.7913569924439491.\u001b[0m\n",
      "\u001b[32m[I 2021-08-05 22:06:28,531]\u001b[0m Trial 11 finished with value: 0.7913569924439491 and parameters: {'n_neighbors': 13, 'weights': 'uniform', 'metric': 'manhattan'}. Best is trial 2 with value: 0.7913569924439491.\u001b[0m\n",
      "\u001b[32m[I 2021-08-05 22:06:28,572]\u001b[0m Trial 12 finished with value: 0.7913569924439491 and parameters: {'n_neighbors': 13, 'weights': 'uniform', 'metric': 'manhattan'}. Best is trial 2 with value: 0.7913569924439491.\u001b[0m\n",
      "\u001b[32m[I 2021-08-05 22:06:28,613]\u001b[0m Trial 13 finished with value: 0.7817261241174284 and parameters: {'n_neighbors': 13, 'weights': 'uniform', 'metric': 'euclidean'}. Best is trial 2 with value: 0.7913569924439491.\u001b[0m\n",
      "\u001b[32m[I 2021-08-05 22:06:28,654]\u001b[0m Trial 14 finished with value: 0.7913569924439491 and parameters: {'n_neighbors': 13, 'weights': 'uniform', 'metric': 'manhattan'}. Best is trial 2 with value: 0.7913569924439491.\u001b[0m\n",
      "\u001b[32m[I 2021-08-05 22:06:28,696]\u001b[0m Trial 15 finished with value: 0.7913569924439491 and parameters: {'n_neighbors': 13, 'weights': 'uniform', 'metric': 'manhattan'}. Best is trial 2 with value: 0.7913569924439491.\u001b[0m\n",
      "\u001b[32m[I 2021-08-05 22:06:28,737]\u001b[0m Trial 16 finished with value: 0.7913569924439491 and parameters: {'n_neighbors': 13, 'weights': 'uniform', 'metric': 'manhattan'}. Best is trial 2 with value: 0.7913569924439491.\u001b[0m\n",
      "\u001b[32m[I 2021-08-05 22:06:28,779]\u001b[0m Trial 17 finished with value: 0.786502849002849 and parameters: {'n_neighbors': 9, 'weights': 'uniform', 'metric': 'euclidean'}. Best is trial 2 with value: 0.7913569924439491.\u001b[0m\n",
      "\u001b[32m[I 2021-08-05 22:06:28,818]\u001b[0m Trial 18 finished with value: 0.7608385977951194 and parameters: {'n_neighbors': 5, 'weights': 'uniform', 'metric': 'manhattan'}. Best is trial 2 with value: 0.7913569924439491.\u001b[0m\n",
      "\u001b[32m[I 2021-08-05 22:06:28,860]\u001b[0m Trial 19 finished with value: 0.7913569924439491 and parameters: {'n_neighbors': 13, 'weights': 'uniform', 'metric': 'manhattan'}. Best is trial 2 with value: 0.7913569924439491.\u001b[0m\n",
      "\u001b[32m[I 2021-08-05 22:06:28,902]\u001b[0m Trial 20 finished with value: 0.7913569924439491 and parameters: {'n_neighbors': 13, 'weights': 'uniform', 'metric': 'manhattan'}. Best is trial 2 with value: 0.7913569924439491.\u001b[0m\n",
      "\u001b[32m[I 2021-08-05 22:06:28,944]\u001b[0m Trial 21 finished with value: 0.7913569924439491 and parameters: {'n_neighbors': 13, 'weights': 'uniform', 'metric': 'manhattan'}. Best is trial 2 with value: 0.7913569924439491.\u001b[0m\n",
      "\u001b[32m[I 2021-08-05 22:06:28,984]\u001b[0m Trial 22 finished with value: 0.7913569924439491 and parameters: {'n_neighbors': 13, 'weights': 'uniform', 'metric': 'manhattan'}. Best is trial 2 with value: 0.7913569924439491.\u001b[0m\n",
      "\u001b[32m[I 2021-08-05 22:06:29,029]\u001b[0m Trial 23 finished with value: 0.7913569924439491 and parameters: {'n_neighbors': 13, 'weights': 'uniform', 'metric': 'manhattan'}. Best is trial 2 with value: 0.7913569924439491.\u001b[0m\n",
      "\u001b[32m[I 2021-08-05 22:06:29,069]\u001b[0m Trial 24 finished with value: 0.7913569924439491 and parameters: {'n_neighbors': 13, 'weights': 'uniform', 'metric': 'manhattan'}. Best is trial 2 with value: 0.7913569924439491.\u001b[0m\n",
      "\u001b[32m[I 2021-08-05 22:06:29,112]\u001b[0m Trial 25 finished with value: 0.7913569924439491 and parameters: {'n_neighbors': 13, 'weights': 'uniform', 'metric': 'manhattan'}. Best is trial 2 with value: 0.7913569924439491.\u001b[0m\n",
      "\u001b[32m[I 2021-08-05 22:06:29,153]\u001b[0m Trial 26 finished with value: 0.7881441223832528 and parameters: {'n_neighbors': 11, 'weights': 'uniform', 'metric': 'euclidean'}. Best is trial 2 with value: 0.7913569924439491.\u001b[0m\n",
      "\u001b[32m[I 2021-08-05 22:06:29,197]\u001b[0m Trial 27 finished with value: 0.7865493001362567 and parameters: {'n_neighbors': 9, 'weights': 'uniform', 'metric': 'manhattan'}. Best is trial 2 with value: 0.7913569924439491.\u001b[0m\n",
      "\u001b[32m[I 2021-08-05 22:06:29,237]\u001b[0m Trial 28 finished with value: 0.7608385977951194 and parameters: {'n_neighbors': 5, 'weights': 'uniform', 'metric': 'manhattan'}. Best is trial 2 with value: 0.7913569924439491.\u001b[0m\n",
      "\u001b[32m[I 2021-08-05 22:06:29,268]\u001b[0m Trial 29 finished with value: 0.7672720797720798 and parameters: {'n_neighbors': 11, 'weights': 'distance', 'metric': 'manhattan'}. Best is trial 2 with value: 0.7913569924439491.\u001b[0m\n",
      "\u001b[32m[I 2021-08-05 22:06:29,311]\u001b[0m Trial 30 finished with value: 0.7785209959123002 and parameters: {'n_neighbors': 15, 'weights': 'uniform', 'metric': 'manhattan'}. Best is trial 2 with value: 0.7913569924439491.\u001b[0m\n",
      "\u001b[32m[I 2021-08-05 22:06:29,353]\u001b[0m Trial 31 finished with value: 0.7913569924439491 and parameters: {'n_neighbors': 13, 'weights': 'uniform', 'metric': 'manhattan'}. Best is trial 2 with value: 0.7913569924439491.\u001b[0m\n",
      "\u001b[32m[I 2021-08-05 22:06:29,396]\u001b[0m Trial 32 finished with value: 0.7913569924439491 and parameters: {'n_neighbors': 13, 'weights': 'uniform', 'metric': 'manhattan'}. Best is trial 2 with value: 0.7913569924439491.\u001b[0m\n",
      "\u001b[32m[I 2021-08-05 22:06:29,438]\u001b[0m Trial 33 finished with value: 0.7913569924439491 and parameters: {'n_neighbors': 13, 'weights': 'uniform', 'metric': 'manhattan'}. Best is trial 2 with value: 0.7913569924439491.\u001b[0m\n",
      "\u001b[32m[I 2021-08-05 22:06:29,481]\u001b[0m Trial 34 finished with value: 0.7913569924439491 and parameters: {'n_neighbors': 13, 'weights': 'uniform', 'metric': 'manhattan'}. Best is trial 2 with value: 0.7913569924439491.\u001b[0m\n",
      "\u001b[32m[I 2021-08-05 22:06:29,525]\u001b[0m Trial 35 finished with value: 0.7881518642388207 and parameters: {'n_neighbors': 7, 'weights': 'uniform', 'metric': 'manhattan'}. Best is trial 2 with value: 0.7913569924439491.\u001b[0m\n",
      "\u001b[32m[I 2021-08-05 22:06:29,556]\u001b[0m Trial 36 finished with value: 0.77208751393534 and parameters: {'n_neighbors': 13, 'weights': 'distance', 'metric': 'manhattan'}. Best is trial 2 with value: 0.7913569924439491.\u001b[0m\n"
     ]
    },
    {
     "name": "stderr",
     "output_type": "stream",
     "text": [
      "\u001b[32m[I 2021-08-05 22:06:29,603]\u001b[0m Trial 37 finished with value: 0.7817261241174284 and parameters: {'n_neighbors': 13, 'weights': 'uniform', 'metric': 'minkowski'}. Best is trial 2 with value: 0.7913569924439491.\u001b[0m\n",
      "\u001b[32m[I 2021-08-05 22:06:29,651]\u001b[0m Trial 38 finished with value: 0.7785209959123002 and parameters: {'n_neighbors': 15, 'weights': 'uniform', 'metric': 'manhattan'}. Best is trial 2 with value: 0.7913569924439491.\u001b[0m\n",
      "\u001b[32m[I 2021-08-05 22:06:29,689]\u001b[0m Trial 39 finished with value: 0.7560463891985632 and parameters: {'n_neighbors': 7, 'weights': 'distance', 'metric': 'manhattan'}. Best is trial 2 with value: 0.7913569924439491.\u001b[0m\n",
      "\u001b[32m[I 2021-08-05 22:06:29,744]\u001b[0m Trial 40 finished with value: 0.7817261241174284 and parameters: {'n_neighbors': 13, 'weights': 'uniform', 'metric': 'minkowski'}. Best is trial 2 with value: 0.7913569924439491.\u001b[0m\n",
      "\u001b[32m[I 2021-08-05 22:06:29,797]\u001b[0m Trial 41 finished with value: 0.7913569924439491 and parameters: {'n_neighbors': 13, 'weights': 'uniform', 'metric': 'manhattan'}. Best is trial 2 with value: 0.7913569924439491.\u001b[0m\n",
      "\u001b[32m[I 2021-08-05 22:06:29,850]\u001b[0m Trial 42 finished with value: 0.7913569924439491 and parameters: {'n_neighbors': 13, 'weights': 'uniform', 'metric': 'manhattan'}. Best is trial 2 with value: 0.7913569924439491.\u001b[0m\n",
      "\u001b[32m[I 2021-08-05 22:06:29,900]\u001b[0m Trial 43 finished with value: 0.7913569924439491 and parameters: {'n_neighbors': 13, 'weights': 'uniform', 'metric': 'manhattan'}. Best is trial 2 with value: 0.7913569924439491.\u001b[0m\n",
      "\u001b[32m[I 2021-08-05 22:06:29,945]\u001b[0m Trial 44 finished with value: 0.7913569924439491 and parameters: {'n_neighbors': 13, 'weights': 'uniform', 'metric': 'manhattan'}. Best is trial 2 with value: 0.7913569924439491.\u001b[0m\n",
      "\u001b[32m[I 2021-08-05 22:06:29,985]\u001b[0m Trial 45 finished with value: 0.7913569924439491 and parameters: {'n_neighbors': 13, 'weights': 'uniform', 'metric': 'manhattan'}. Best is trial 2 with value: 0.7913569924439491.\u001b[0m\n",
      "\u001b[32m[I 2021-08-05 22:06:30,029]\u001b[0m Trial 46 finished with value: 0.7592282918369874 and parameters: {'n_neighbors': 5, 'weights': 'uniform', 'metric': 'euclidean'}. Best is trial 2 with value: 0.7913569924439491.\u001b[0m\n",
      "\u001b[32m[I 2021-08-05 22:06:30,072]\u001b[0m Trial 47 finished with value: 0.7913569924439491 and parameters: {'n_neighbors': 13, 'weights': 'uniform', 'metric': 'manhattan'}. Best is trial 2 with value: 0.7913569924439491.\u001b[0m\n",
      "\u001b[32m[I 2021-08-05 22:06:30,123]\u001b[0m Trial 48 finished with value: 0.7817261241174284 and parameters: {'n_neighbors': 13, 'weights': 'uniform', 'metric': 'minkowski'}. Best is trial 2 with value: 0.7913569924439491.\u001b[0m\n",
      "\u001b[32m[I 2021-08-05 22:06:30,158]\u001b[0m Trial 49 finished with value: 0.7688591601635081 and parameters: {'n_neighbors': 9, 'weights': 'distance', 'metric': 'manhattan'}. Best is trial 2 with value: 0.7913569924439491.\u001b[0m\n",
      "\u001b[32m[I 2021-08-05 22:06:30,209]\u001b[0m Trial 50 finished with value: 0.7833286882199926 and parameters: {'n_neighbors': 11, 'weights': 'uniform', 'metric': 'manhattan'}. Best is trial 2 with value: 0.7913569924439491.\u001b[0m\n",
      "\u001b[32m[I 2021-08-05 22:06:30,259]\u001b[0m Trial 51 finished with value: 0.7913569924439491 and parameters: {'n_neighbors': 13, 'weights': 'uniform', 'metric': 'manhattan'}. Best is trial 2 with value: 0.7913569924439491.\u001b[0m\n",
      "\u001b[32m[I 2021-08-05 22:06:30,308]\u001b[0m Trial 52 finished with value: 0.7913569924439491 and parameters: {'n_neighbors': 13, 'weights': 'uniform', 'metric': 'manhattan'}. Best is trial 2 with value: 0.7913569924439491.\u001b[0m\n",
      "\u001b[32m[I 2021-08-05 22:06:30,357]\u001b[0m Trial 53 finished with value: 0.7913569924439491 and parameters: {'n_neighbors': 13, 'weights': 'uniform', 'metric': 'manhattan'}. Best is trial 2 with value: 0.7913569924439491.\u001b[0m\n",
      "\u001b[32m[I 2021-08-05 22:06:30,404]\u001b[0m Trial 54 finished with value: 0.7913569924439491 and parameters: {'n_neighbors': 13, 'weights': 'uniform', 'metric': 'manhattan'}. Best is trial 2 with value: 0.7913569924439491.\u001b[0m\n",
      "\u001b[32m[I 2021-08-05 22:06:30,447]\u001b[0m Trial 55 finished with value: 0.7913569924439491 and parameters: {'n_neighbors': 13, 'weights': 'uniform', 'metric': 'manhattan'}. Best is trial 2 with value: 0.7913569924439491.\u001b[0m\n",
      "\u001b[32m[I 2021-08-05 22:06:30,488]\u001b[0m Trial 56 finished with value: 0.7785209959123002 and parameters: {'n_neighbors': 15, 'weights': 'uniform', 'metric': 'manhattan'}. Best is trial 2 with value: 0.7913569924439491.\u001b[0m\n",
      "\u001b[32m[I 2021-08-05 22:06:30,528]\u001b[0m Trial 57 finished with value: 0.7817261241174284 and parameters: {'n_neighbors': 13, 'weights': 'uniform', 'metric': 'euclidean'}. Best is trial 2 with value: 0.7913569924439491.\u001b[0m\n",
      "\u001b[32m[I 2021-08-05 22:06:30,570]\u001b[0m Trial 58 finished with value: 0.7913569924439491 and parameters: {'n_neighbors': 13, 'weights': 'uniform', 'metric': 'manhattan'}. Best is trial 2 with value: 0.7913569924439491.\u001b[0m\n",
      "\u001b[32m[I 2021-08-05 22:06:30,616]\u001b[0m Trial 59 finished with value: 0.7881518642388207 and parameters: {'n_neighbors': 7, 'weights': 'uniform', 'metric': 'manhattan'}. Best is trial 2 with value: 0.7913569924439491.\u001b[0m\n",
      "\u001b[32m[I 2021-08-05 22:06:30,671]\u001b[0m Trial 60 finished with value: 0.7913569924439491 and parameters: {'n_neighbors': 13, 'weights': 'uniform', 'metric': 'manhattan'}. Best is trial 2 with value: 0.7913569924439491.\u001b[0m\n",
      "\u001b[32m[I 2021-08-05 22:06:30,722]\u001b[0m Trial 61 finished with value: 0.7913569924439491 and parameters: {'n_neighbors': 13, 'weights': 'uniform', 'metric': 'manhattan'}. Best is trial 2 with value: 0.7913569924439491.\u001b[0m\n",
      "\u001b[32m[I 2021-08-05 22:06:30,774]\u001b[0m Trial 62 finished with value: 0.7913569924439491 and parameters: {'n_neighbors': 13, 'weights': 'uniform', 'metric': 'manhattan'}. Best is trial 2 with value: 0.7913569924439491.\u001b[0m\n",
      "\u001b[32m[I 2021-08-05 22:06:30,822]\u001b[0m Trial 63 finished with value: 0.7913569924439491 and parameters: {'n_neighbors': 13, 'weights': 'uniform', 'metric': 'manhattan'}. Best is trial 2 with value: 0.7913569924439491.\u001b[0m\n",
      "\u001b[32m[I 2021-08-05 22:06:30,872]\u001b[0m Trial 64 finished with value: 0.7913569924439491 and parameters: {'n_neighbors': 13, 'weights': 'uniform', 'metric': 'manhattan'}. Best is trial 2 with value: 0.7913569924439491.\u001b[0m\n",
      "\u001b[32m[I 2021-08-05 22:06:30,921]\u001b[0m Trial 65 finished with value: 0.7913569924439491 and parameters: {'n_neighbors': 13, 'weights': 'uniform', 'metric': 'manhattan'}. Best is trial 2 with value: 0.7913569924439491.\u001b[0m\n",
      "\u001b[32m[I 2021-08-05 22:06:30,965]\u001b[0m Trial 66 finished with value: 0.7913569924439491 and parameters: {'n_neighbors': 13, 'weights': 'uniform', 'metric': 'manhattan'}. Best is trial 2 with value: 0.7913569924439491.\u001b[0m\n",
      "\u001b[32m[I 2021-08-05 22:06:31,006]\u001b[0m Trial 67 finished with value: 0.7913569924439491 and parameters: {'n_neighbors': 13, 'weights': 'uniform', 'metric': 'manhattan'}. Best is trial 2 with value: 0.7913569924439491.\u001b[0m\n",
      "\u001b[32m[I 2021-08-05 22:06:31,050]\u001b[0m Trial 68 finished with value: 0.7608385977951194 and parameters: {'n_neighbors': 5, 'weights': 'uniform', 'metric': 'manhattan'}. Best is trial 2 with value: 0.7913569924439491.\u001b[0m\n",
      "\u001b[32m[I 2021-08-05 22:06:31,095]\u001b[0m Trial 69 finished with value: 0.786502849002849 and parameters: {'n_neighbors': 9, 'weights': 'uniform', 'metric': 'minkowski'}. Best is trial 2 with value: 0.7913569924439491.\u001b[0m\n",
      "\u001b[32m[I 2021-08-05 22:06:31,125]\u001b[0m Trial 70 finished with value: 0.7672720797720798 and parameters: {'n_neighbors': 11, 'weights': 'distance', 'metric': 'manhattan'}. Best is trial 2 with value: 0.7913569924439491.\u001b[0m\n",
      "\u001b[32m[I 2021-08-05 22:06:31,167]\u001b[0m Trial 71 finished with value: 0.7913569924439491 and parameters: {'n_neighbors': 13, 'weights': 'uniform', 'metric': 'manhattan'}. Best is trial 2 with value: 0.7913569924439491.\u001b[0m\n",
      "\u001b[32m[I 2021-08-05 22:06:31,210]\u001b[0m Trial 72 finished with value: 0.7913569924439491 and parameters: {'n_neighbors': 13, 'weights': 'uniform', 'metric': 'manhattan'}. Best is trial 2 with value: 0.7913569924439491.\u001b[0m\n",
      "\u001b[32m[I 2021-08-05 22:06:31,253]\u001b[0m Trial 73 finished with value: 0.7913569924439491 and parameters: {'n_neighbors': 13, 'weights': 'uniform', 'metric': 'manhattan'}. Best is trial 2 with value: 0.7913569924439491.\u001b[0m\n",
      "\u001b[32m[I 2021-08-05 22:06:31,298]\u001b[0m Trial 74 finished with value: 0.7913569924439491 and parameters: {'n_neighbors': 13, 'weights': 'uniform', 'metric': 'manhattan'}. Best is trial 2 with value: 0.7913569924439491.\u001b[0m\n"
     ]
    },
    {
     "name": "stderr",
     "output_type": "stream",
     "text": [
      "\u001b[32m[I 2021-08-05 22:06:31,342]\u001b[0m Trial 75 finished with value: 0.7913569924439491 and parameters: {'n_neighbors': 13, 'weights': 'uniform', 'metric': 'manhattan'}. Best is trial 2 with value: 0.7913569924439491.\u001b[0m\n",
      "\u001b[32m[I 2021-08-05 22:06:31,385]\u001b[0m Trial 76 finished with value: 0.7913569924439491 and parameters: {'n_neighbors': 13, 'weights': 'uniform', 'metric': 'manhattan'}. Best is trial 2 with value: 0.7913569924439491.\u001b[0m\n",
      "\u001b[32m[I 2021-08-05 22:06:31,429]\u001b[0m Trial 77 finished with value: 0.7913569924439491 and parameters: {'n_neighbors': 13, 'weights': 'uniform', 'metric': 'manhattan'}. Best is trial 2 with value: 0.7913569924439491.\u001b[0m\n",
      "\u001b[32m[I 2021-08-05 22:06:31,469]\u001b[0m Trial 78 finished with value: 0.7785287377678682 and parameters: {'n_neighbors': 15, 'weights': 'uniform', 'metric': 'euclidean'}. Best is trial 2 with value: 0.7913569924439491.\u001b[0m\n",
      "\u001b[32m[I 2021-08-05 22:06:31,513]\u001b[0m Trial 79 finished with value: 0.7913569924439491 and parameters: {'n_neighbors': 13, 'weights': 'uniform', 'metric': 'manhattan'}. Best is trial 2 with value: 0.7913569924439491.\u001b[0m\n",
      "\u001b[32m[I 2021-08-05 22:06:31,555]\u001b[0m Trial 80 finished with value: 0.7913569924439491 and parameters: {'n_neighbors': 13, 'weights': 'uniform', 'metric': 'manhattan'}. Best is trial 2 with value: 0.7913569924439491.\u001b[0m\n",
      "\u001b[32m[I 2021-08-05 22:06:31,598]\u001b[0m Trial 81 finished with value: 0.7913569924439491 and parameters: {'n_neighbors': 13, 'weights': 'uniform', 'metric': 'manhattan'}. Best is trial 2 with value: 0.7913569924439491.\u001b[0m\n",
      "\u001b[32m[I 2021-08-05 22:06:31,641]\u001b[0m Trial 82 finished with value: 0.7913569924439491 and parameters: {'n_neighbors': 13, 'weights': 'uniform', 'metric': 'manhattan'}. Best is trial 2 with value: 0.7913569924439491.\u001b[0m\n",
      "\u001b[32m[I 2021-08-05 22:06:31,686]\u001b[0m Trial 83 finished with value: 0.7913569924439491 and parameters: {'n_neighbors': 13, 'weights': 'uniform', 'metric': 'manhattan'}. Best is trial 2 with value: 0.7913569924439491.\u001b[0m\n",
      "\u001b[32m[I 2021-08-05 22:06:31,728]\u001b[0m Trial 84 finished with value: 0.7913569924439491 and parameters: {'n_neighbors': 13, 'weights': 'uniform', 'metric': 'manhattan'}. Best is trial 2 with value: 0.7913569924439491.\u001b[0m\n",
      "\u001b[32m[I 2021-08-05 22:06:31,770]\u001b[0m Trial 85 finished with value: 0.7913569924439491 and parameters: {'n_neighbors': 13, 'weights': 'uniform', 'metric': 'manhattan'}. Best is trial 2 with value: 0.7913569924439491.\u001b[0m\n",
      "\u001b[32m[I 2021-08-05 22:06:31,813]\u001b[0m Trial 86 finished with value: 0.7913569924439491 and parameters: {'n_neighbors': 13, 'weights': 'uniform', 'metric': 'manhattan'}. Best is trial 2 with value: 0.7913569924439491.\u001b[0m\n",
      "\u001b[32m[I 2021-08-05 22:06:31,854]\u001b[0m Trial 87 finished with value: 0.7881518642388207 and parameters: {'n_neighbors': 7, 'weights': 'uniform', 'metric': 'manhattan'}. Best is trial 2 with value: 0.7913569924439491.\u001b[0m\n",
      "\u001b[32m[I 2021-08-05 22:06:31,897]\u001b[0m Trial 88 finished with value: 0.7913569924439491 and parameters: {'n_neighbors': 13, 'weights': 'uniform', 'metric': 'manhattan'}. Best is trial 2 with value: 0.7913569924439491.\u001b[0m\n",
      "\u001b[32m[I 2021-08-05 22:06:31,941]\u001b[0m Trial 89 finished with value: 0.7913569924439491 and parameters: {'n_neighbors': 13, 'weights': 'uniform', 'metric': 'manhattan'}. Best is trial 2 with value: 0.7913569924439491.\u001b[0m\n",
      "\u001b[32m[I 2021-08-05 22:06:31,984]\u001b[0m Trial 90 finished with value: 0.7608385977951194 and parameters: {'n_neighbors': 5, 'weights': 'uniform', 'metric': 'manhattan'}. Best is trial 2 with value: 0.7913569924439491.\u001b[0m\n",
      "\u001b[32m[I 2021-08-05 22:06:32,029]\u001b[0m Trial 91 finished with value: 0.7913569924439491 and parameters: {'n_neighbors': 13, 'weights': 'uniform', 'metric': 'manhattan'}. Best is trial 2 with value: 0.7913569924439491.\u001b[0m\n",
      "\u001b[32m[I 2021-08-05 22:06:32,072]\u001b[0m Trial 92 finished with value: 0.7913569924439491 and parameters: {'n_neighbors': 13, 'weights': 'uniform', 'metric': 'manhattan'}. Best is trial 2 with value: 0.7913569924439491.\u001b[0m\n",
      "\u001b[32m[I 2021-08-05 22:06:32,118]\u001b[0m Trial 93 finished with value: 0.7913569924439491 and parameters: {'n_neighbors': 13, 'weights': 'uniform', 'metric': 'manhattan'}. Best is trial 2 with value: 0.7913569924439491.\u001b[0m\n",
      "\u001b[32m[I 2021-08-05 22:06:32,158]\u001b[0m Trial 94 finished with value: 0.7913569924439491 and parameters: {'n_neighbors': 13, 'weights': 'uniform', 'metric': 'manhattan'}. Best is trial 2 with value: 0.7913569924439491.\u001b[0m\n",
      "\u001b[32m[I 2021-08-05 22:06:32,201]\u001b[0m Trial 95 finished with value: 0.7913569924439491 and parameters: {'n_neighbors': 13, 'weights': 'uniform', 'metric': 'manhattan'}. Best is trial 2 with value: 0.7913569924439491.\u001b[0m\n",
      "\u001b[32m[I 2021-08-05 22:06:32,244]\u001b[0m Trial 96 finished with value: 0.7865493001362567 and parameters: {'n_neighbors': 9, 'weights': 'uniform', 'metric': 'manhattan'}. Best is trial 2 with value: 0.7913569924439491.\u001b[0m\n",
      "\u001b[32m[I 2021-08-05 22:06:32,273]\u001b[0m Trial 97 finished with value: 0.7736900780379042 and parameters: {'n_neighbors': 13, 'weights': 'distance', 'metric': 'minkowski'}. Best is trial 2 with value: 0.7913569924439491.\u001b[0m\n",
      "\u001b[32m[I 2021-08-05 22:06:32,315]\u001b[0m Trial 98 finished with value: 0.7913569924439491 and parameters: {'n_neighbors': 13, 'weights': 'uniform', 'metric': 'manhattan'}. Best is trial 2 with value: 0.7913569924439491.\u001b[0m\n",
      "\u001b[32m[I 2021-08-05 22:06:32,357]\u001b[0m Trial 99 finished with value: 0.7913569924439491 and parameters: {'n_neighbors': 13, 'weights': 'uniform', 'metric': 'manhattan'}. Best is trial 2 with value: 0.7913569924439491.\u001b[0m\n"
     ]
    }
   ],
   "source": [
    "study=optuna.create_study(direction='maximize')\n",
    "study.optimize(objective,n_trials=100)"
   ]
  },
  {
   "cell_type": "code",
   "execution_count": 64,
   "metadata": {},
   "outputs": [],
   "source": [
    "best=study.best_params"
   ]
  },
  {
   "cell_type": "code",
   "execution_count": 65,
   "metadata": {},
   "outputs": [
    {
     "data": {
      "text/plain": [
       "{'n_neighbors': 13, 'weights': 'uniform', 'metric': 'manhattan'}"
      ]
     },
     "execution_count": 65,
     "metadata": {},
     "output_type": "execute_result"
    }
   ],
   "source": [
    "best"
   ]
  },
  {
   "cell_type": "code",
   "execution_count": 66,
   "metadata": {},
   "outputs": [],
   "source": [
    "classifier=KNeighborsClassifier(n_neighbors=best['n_neighbors'],weights=best['weights'],metric=best['metric'])\n",
    "classifier.fit(X_train,y_train)\n",
    "prediction=classifier.predict(X_test)"
   ]
  },
  {
   "cell_type": "code",
   "execution_count": 67,
   "metadata": {},
   "outputs": [
    {
     "name": "stdout",
     "output_type": "stream",
     "text": [
      "[[150  18]\n",
      " [ 28  72]]\n",
      "Accuracy Score : 0.8283582089552238\n",
      "              precision    recall  f1-score   support\n",
      "\n",
      "         0.0       0.84      0.89      0.87       168\n",
      "         1.0       0.80      0.72      0.76       100\n",
      "\n",
      "    accuracy                           0.83       268\n",
      "   macro avg       0.82      0.81      0.81       268\n",
      "weighted avg       0.83      0.83      0.83       268\n",
      "\n"
     ]
    }
   ],
   "source": [
    "from sklearn.metrics import confusion_matrix,classification_report,accuracy_score\n",
    "print(confusion_matrix(y_test,prediction))\n",
    "print(\"Accuracy Score :\",accuracy_score(y_test,prediction))\n",
    "print(classification_report(y_test,prediction))"
   ]
  },
  {
   "cell_type": "code",
   "execution_count": 68,
   "metadata": {},
   "outputs": [],
   "source": [
    "# pip install hyperopt\n",
    "from hyperopt import hp,fmin,tpe,STATUS_OK,Trials\n",
    "space={'n_neighbors':hp.choice('n_neighbors',[5,7,9,11,13,15]),\n",
    "       'weights':hp.choice('weights',['uniform','distance']),\n",
    "       'metric':hp.choice('metric',['minkowski','euclidean','manhattan'])}"
   ]
  },
  {
   "cell_type": "code",
   "execution_count": 69,
   "metadata": {},
   "outputs": [],
   "source": [
    "def objective(space):\n",
    "    classifier=KNeighborsClassifier(n_neighbors=space['n_neighbors'],weights=space['weights'],metric=space['metric'])\n",
    "    score=cross_val_score(classifier,X_train,y_train,n_jobs=-1,cv=5).mean()\n",
    "    return{'loss':-score,'status':STATUS_OK}"
   ]
  },
  {
   "cell_type": "code",
   "execution_count": 70,
   "metadata": {},
   "outputs": [
    {
     "name": "stdout",
     "output_type": "stream",
     "text": [
      "100%|███████████████████████████████████████████████| 80/80 [00:07<00:00, 10.74trial/s, best loss: -0.8041548387096775]\n"
     ]
    },
    {
     "data": {
      "text/plain": [
       "{'metric': 2, 'n_neighbors': 3, 'weights': 0}"
      ]
     },
     "execution_count": 70,
     "metadata": {},
     "output_type": "execute_result"
    }
   ],
   "source": [
    "trials=Trials()\n",
    "best=fmin(fn=objective,space=space,algo=tpe.suggest,max_evals=80,trials=trials)\n",
    "best"
   ]
  },
  {
   "cell_type": "code",
   "execution_count": 72,
   "metadata": {},
   "outputs": [],
   "source": [
    "neigh={0:5,1:7,2:9,3:11,4:13,5:15}\n",
    "wei={0:'uniform',1:'distance'}\n",
    "met={0:'minkowski',1:'euclidean',2:'manhattan'}"
   ]
  },
  {
   "cell_type": "code",
   "execution_count": 73,
   "metadata": {},
   "outputs": [],
   "source": [
    "classifier=KNeighborsClassifier(n_neighbors=neigh[best['n_neighbors']],weights=wei[best['weights']],metric=met[best['metric']])\n",
    "classifier.fit(X_train,y_train)\n",
    "prediction=classifier.predict(X_test)"
   ]
  },
  {
   "cell_type": "code",
   "execution_count": 74,
   "metadata": {},
   "outputs": [
    {
     "name": "stdout",
     "output_type": "stream",
     "text": [
      "[[145  23]\n",
      " [ 27  73]]\n",
      "Accuracy Score : 0.8134328358208955\n",
      "              precision    recall  f1-score   support\n",
      "\n",
      "         0.0       0.84      0.86      0.85       168\n",
      "         1.0       0.76      0.73      0.74       100\n",
      "\n",
      "    accuracy                           0.81       268\n",
      "   macro avg       0.80      0.80      0.80       268\n",
      "weighted avg       0.81      0.81      0.81       268\n",
      "\n"
     ]
    }
   ],
   "source": [
    "from sklearn.metrics import confusion_matrix,classification_report,accuracy_score\n",
    "print(confusion_matrix(y_test,prediction))\n",
    "print(\"Accuracy Score :\",accuracy_score(y_test,prediction))\n",
    "print(classification_report(y_test,prediction))"
   ]
  }
 ],
 "metadata": {
  "kernelspec": {
   "display_name": "Python 3",
   "language": "python",
   "name": "python3"
  },
  "language_info": {
   "codemirror_mode": {
    "name": "ipython",
    "version": 3
   },
   "file_extension": ".py",
   "mimetype": "text/x-python",
   "name": "python",
   "nbconvert_exporter": "python",
   "pygments_lexer": "ipython3",
   "version": "3.8.5"
  }
 },
 "nbformat": 4,
 "nbformat_minor": 4
}
